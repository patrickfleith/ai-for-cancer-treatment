{
 "cells": [
  {
   "cell_type": "markdown",
   "metadata": {
    "colab_type": "text",
    "id": "Ok1vxsLqqw3w"
   },
   "source": [
    "# Estimate of Cancer Treatment Effect from Randomized Control Trial using Machine Learning"
   ]
  },
  {
   "cell_type": "markdown",
   "metadata": {},
   "source": [
    "In this project we evaluate the results of a randomized control trial (RCT).\n",
    "It covers the following topics:\n",
    "- Analysis of RCT data using traditional statistical methods and recent machine learning techniques\n",
    "- Interpretation of multivariate models (quantifying treatment effect, baseline risk, and predicted risk reduction)\n",
    "- Evaluation of treatment effect models: i.e, comparing predicted and empirical risk reductions and computing the C-statistic-for-benefit\n",
    "- Interpretation of Machine Learning models for treatment effect estimation with T-learner model."
   ]
  },
  {
   "cell_type": "markdown",
   "metadata": {
    "colab_type": "text",
    "id": "B16h5bb8eFmw"
   },
   "source": [
    "## Table of Content\n",
    "\n",
    "[1. Dataset](#1)\n",
    "\n",
    "[2. Data Processing](#2)\n",
    "\n",
    "[3. Modelling Treatment Effect](#3)\n",
    "\n",
    "[4. Model Evaluation Metric for Treatment Effect](#4)\n",
    "\n",
    "[5. Machine Learning Approach](#5)"
   ]
  },
  {
   "cell_type": "markdown",
   "metadata": {
    "colab_type": "text",
    "id": "Tklnk8tneq2U"
   },
   "source": [
    "## Packages\n",
    "\n",
    "We'll first import all the packages that we need. \n",
    "\n",
    "\n",
    "- `pandas` is what we'll use to manipulate our data\n",
    "- `numpy`  is a library for mathematical and scientific operations\n",
    "- `matplotlib` is a plotting library\n",
    "- `sklearn` contains a lot of efficient tools for machine learning and statistical modeling\n",
    "- `random` allows us to generate random numbers in python\n",
    "- `lifelines` is an open-source library that implements c-statistic\n",
    "- `itertools` will help us with hyperparameters searching\n",
    "\n",
    "## Import Packages"
   ]
  },
  {
   "cell_type": "code",
   "execution_count": 99,
   "metadata": {
    "ExecuteTime": {
     "end_time": "2020-04-04T15:29:41.602385Z",
     "start_time": "2020-04-04T15:29:39.274097Z"
    },
    "colab": {},
    "colab_type": "code",
    "id": "Z5zOXfAIH-41"
   },
   "outputs": [],
   "source": [
    "import pandas as pd\n",
    "import numpy as np\n",
    "import matplotlib.pyplot as plt\n",
    "import sklearn\n",
    "import random\n",
    "import lifelines\n",
    "import itertools\n",
    "\n",
    "plt.rcParams['figure.figsize'] = [10, 7] # set figure size parameters"
   ]
  },
  {
   "cell_type": "markdown",
   "metadata": {
    "colab_type": "text",
    "id": "pVEHJZ79mvQx"
   },
   "source": [
    "<a name=\"1\"></a>\n",
    "## 1 Dataset\n",
    "\n",
    "In this project, we'll be examining data from an RCT, measuring the effect of a particular drug combination on colon cancer. Specifically, we'll be looking the effect of [Levamisole](https://en.wikipedia.org/wiki/Levamisole) and [Fluorouracil](https://en.wikipedia.org/wiki/Fluorouracil) on patients who have had surgery to remove their colon cancer. After surgery, the curability of the patient depends on the remaining residual cancer. In this study, it was found that this particular drug combination had a clear beneficial effect, when compared with [Chemotherapy](https://en.wikipedia.org/wiki/Chemotherapy).\n",
    "\n",
    "First, let's load in the dataset and calculate basic statistics."
   ]
  },
  {
   "cell_type": "code",
   "execution_count": 100,
   "metadata": {
    "ExecuteTime": {
     "end_time": "2020-04-04T15:29:41.612018Z",
     "start_time": "2020-04-04T15:29:41.602385Z"
    },
    "colab": {},
    "colab_type": "code",
    "id": "QOV_BJGyLtjR"
   },
   "outputs": [],
   "source": [
    "data = pd.read_csv(\"levamisole_data.csv\", index_col=0)"
   ]
  },
  {
   "cell_type": "markdown",
   "metadata": {
    "colab_type": "text",
    "id": "RlqE8036sj3y"
   },
   "source": [
    "Let's look at our data to familiarize ourselves with the various fields. "
   ]
  },
  {
   "cell_type": "code",
   "execution_count": 101,
   "metadata": {
    "ExecuteTime": {
     "end_time": "2020-04-04T15:29:45.698204Z",
     "start_time": "2020-04-04T15:29:45.677460Z"
    },
    "colab": {
     "base_uri": "https://localhost:8080/",
     "height": 221
    },
    "colab_type": "code",
    "id": "RPS1stb7si4N",
    "outputId": "a64b50c6-5df2-467a-abee-0d73f82d7825"
   },
   "outputs": [
    {
     "name": "stdout",
     "output_type": "stream",
     "text": [
      "Data Dimensions: (607, 14)\n"
     ]
    },
    {
     "data": {
      "text/html": [
       "<div>\n",
       "<style scoped>\n",
       "    .dataframe tbody tr th:only-of-type {\n",
       "        vertical-align: middle;\n",
       "    }\n",
       "\n",
       "    .dataframe tbody tr th {\n",
       "        vertical-align: top;\n",
       "    }\n",
       "\n",
       "    .dataframe thead th {\n",
       "        text-align: right;\n",
       "    }\n",
       "</style>\n",
       "<table border=\"1\" class=\"dataframe\">\n",
       "  <thead>\n",
       "    <tr style=\"text-align: right;\">\n",
       "      <th></th>\n",
       "      <th>sex</th>\n",
       "      <th>age</th>\n",
       "      <th>obstruct</th>\n",
       "      <th>perfor</th>\n",
       "      <th>adhere</th>\n",
       "      <th>nodes</th>\n",
       "      <th>node4</th>\n",
       "      <th>outcome</th>\n",
       "      <th>TRTMT</th>\n",
       "      <th>differ_2.0</th>\n",
       "      <th>differ_3.0</th>\n",
       "      <th>extent_2</th>\n",
       "      <th>extent_3</th>\n",
       "      <th>extent_4</th>\n",
       "    </tr>\n",
       "  </thead>\n",
       "  <tbody>\n",
       "    <tr>\n",
       "      <th>1</th>\n",
       "      <td>1</td>\n",
       "      <td>43</td>\n",
       "      <td>0</td>\n",
       "      <td>0</td>\n",
       "      <td>0</td>\n",
       "      <td>5.0</td>\n",
       "      <td>1</td>\n",
       "      <td>1</td>\n",
       "      <td>True</td>\n",
       "      <td>1</td>\n",
       "      <td>0</td>\n",
       "      <td>0</td>\n",
       "      <td>1</td>\n",
       "      <td>0</td>\n",
       "    </tr>\n",
       "    <tr>\n",
       "      <th>2</th>\n",
       "      <td>1</td>\n",
       "      <td>63</td>\n",
       "      <td>0</td>\n",
       "      <td>0</td>\n",
       "      <td>0</td>\n",
       "      <td>1.0</td>\n",
       "      <td>0</td>\n",
       "      <td>0</td>\n",
       "      <td>True</td>\n",
       "      <td>1</td>\n",
       "      <td>0</td>\n",
       "      <td>0</td>\n",
       "      <td>1</td>\n",
       "      <td>0</td>\n",
       "    </tr>\n",
       "    <tr>\n",
       "      <th>3</th>\n",
       "      <td>0</td>\n",
       "      <td>71</td>\n",
       "      <td>0</td>\n",
       "      <td>0</td>\n",
       "      <td>1</td>\n",
       "      <td>7.0</td>\n",
       "      <td>1</td>\n",
       "      <td>1</td>\n",
       "      <td>False</td>\n",
       "      <td>1</td>\n",
       "      <td>0</td>\n",
       "      <td>1</td>\n",
       "      <td>0</td>\n",
       "      <td>0</td>\n",
       "    </tr>\n",
       "    <tr>\n",
       "      <th>4</th>\n",
       "      <td>0</td>\n",
       "      <td>66</td>\n",
       "      <td>1</td>\n",
       "      <td>0</td>\n",
       "      <td>0</td>\n",
       "      <td>6.0</td>\n",
       "      <td>1</td>\n",
       "      <td>1</td>\n",
       "      <td>True</td>\n",
       "      <td>1</td>\n",
       "      <td>0</td>\n",
       "      <td>0</td>\n",
       "      <td>1</td>\n",
       "      <td>0</td>\n",
       "    </tr>\n",
       "    <tr>\n",
       "      <th>5</th>\n",
       "      <td>1</td>\n",
       "      <td>69</td>\n",
       "      <td>0</td>\n",
       "      <td>0</td>\n",
       "      <td>0</td>\n",
       "      <td>22.0</td>\n",
       "      <td>1</td>\n",
       "      <td>1</td>\n",
       "      <td>False</td>\n",
       "      <td>1</td>\n",
       "      <td>0</td>\n",
       "      <td>0</td>\n",
       "      <td>1</td>\n",
       "      <td>0</td>\n",
       "    </tr>\n",
       "    <tr>\n",
       "      <th>6</th>\n",
       "      <td>0</td>\n",
       "      <td>57</td>\n",
       "      <td>0</td>\n",
       "      <td>0</td>\n",
       "      <td>0</td>\n",
       "      <td>9.0</td>\n",
       "      <td>1</td>\n",
       "      <td>1</td>\n",
       "      <td>True</td>\n",
       "      <td>1</td>\n",
       "      <td>0</td>\n",
       "      <td>0</td>\n",
       "      <td>1</td>\n",
       "      <td>0</td>\n",
       "    </tr>\n",
       "    <tr>\n",
       "      <th>8</th>\n",
       "      <td>1</td>\n",
       "      <td>54</td>\n",
       "      <td>0</td>\n",
       "      <td>0</td>\n",
       "      <td>0</td>\n",
       "      <td>1.0</td>\n",
       "      <td>0</td>\n",
       "      <td>0</td>\n",
       "      <td>False</td>\n",
       "      <td>1</td>\n",
       "      <td>0</td>\n",
       "      <td>0</td>\n",
       "      <td>1</td>\n",
       "      <td>0</td>\n",
       "    </tr>\n",
       "    <tr>\n",
       "      <th>10</th>\n",
       "      <td>0</td>\n",
       "      <td>68</td>\n",
       "      <td>0</td>\n",
       "      <td>0</td>\n",
       "      <td>0</td>\n",
       "      <td>1.0</td>\n",
       "      <td>0</td>\n",
       "      <td>0</td>\n",
       "      <td>True</td>\n",
       "      <td>1</td>\n",
       "      <td>0</td>\n",
       "      <td>0</td>\n",
       "      <td>1</td>\n",
       "      <td>0</td>\n",
       "    </tr>\n",
       "    <tr>\n",
       "      <th>12</th>\n",
       "      <td>1</td>\n",
       "      <td>52</td>\n",
       "      <td>0</td>\n",
       "      <td>0</td>\n",
       "      <td>0</td>\n",
       "      <td>2.0</td>\n",
       "      <td>0</td>\n",
       "      <td>0</td>\n",
       "      <td>True</td>\n",
       "      <td>0</td>\n",
       "      <td>1</td>\n",
       "      <td>0</td>\n",
       "      <td>1</td>\n",
       "      <td>0</td>\n",
       "    </tr>\n",
       "    <tr>\n",
       "      <th>13</th>\n",
       "      <td>1</td>\n",
       "      <td>64</td>\n",
       "      <td>0</td>\n",
       "      <td>0</td>\n",
       "      <td>0</td>\n",
       "      <td>1.0</td>\n",
       "      <td>0</td>\n",
       "      <td>0</td>\n",
       "      <td>False</td>\n",
       "      <td>1</td>\n",
       "      <td>0</td>\n",
       "      <td>0</td>\n",
       "      <td>1</td>\n",
       "      <td>0</td>\n",
       "    </tr>\n",
       "  </tbody>\n",
       "</table>\n",
       "</div>"
      ],
      "text/plain": [
       "    sex  age  obstruct  perfor  adhere  nodes  node4  outcome  TRTMT  \\\n",
       "1     1   43         0       0       0    5.0      1        1   True   \n",
       "2     1   63         0       0       0    1.0      0        0   True   \n",
       "3     0   71         0       0       1    7.0      1        1  False   \n",
       "4     0   66         1       0       0    6.0      1        1   True   \n",
       "5     1   69         0       0       0   22.0      1        1  False   \n",
       "6     0   57         0       0       0    9.0      1        1   True   \n",
       "8     1   54         0       0       0    1.0      0        0  False   \n",
       "10    0   68         0       0       0    1.0      0        0   True   \n",
       "12    1   52         0       0       0    2.0      0        0   True   \n",
       "13    1   64         0       0       0    1.0      0        0  False   \n",
       "\n",
       "    differ_2.0  differ_3.0  extent_2  extent_3  extent_4  \n",
       "1            1           0         0         1         0  \n",
       "2            1           0         0         1         0  \n",
       "3            1           0         1         0         0  \n",
       "4            1           0         0         1         0  \n",
       "5            1           0         0         1         0  \n",
       "6            1           0         0         1         0  \n",
       "8            1           0         0         1         0  \n",
       "10           1           0         0         1         0  \n",
       "12           0           1         0         1         0  \n",
       "13           1           0         0         1         0  "
      ]
     },
     "execution_count": 101,
     "metadata": {},
     "output_type": "execute_result"
    }
   ],
   "source": [
    "print(f\"Data Dimensions: {data.shape}\")\n",
    "data.head(10)"
   ]
  },
  {
   "cell_type": "markdown",
   "metadata": {
    "colab_type": "text",
    "id": "ctvm6IEhauEd"
   },
   "source": [
    "Below is a description of all the fields (one-hot means a different field for each level):\n",
    "- `sex (binary): 1 if Male, 0 otherwise`\n",
    "- `age (int): age of patient at start of the study`\n",
    "- `obstruct (binary): obstruction of colon by tumor`\n",
    "- `perfor (binary): perforation of colon`\n",
    "- `adhere (binary): adherence to nearby organs`\n",
    "- `nodes (int): number of lymphnodes with detectable cancer`\n",
    "- `node4 (binary): more than 4 positive lymph nodes`\n",
    "- `outcome (binary): 1 if died within 5 years`\n",
    "- `TRTMT (binary): treated with levamisole + fluoroucil`\n",
    "- `differ (one-hot): differentiation of tumor`\n",
    "- `extent (one-hot): extent of local spread`"
   ]
  },
  {
   "cell_type": "markdown",
   "metadata": {
    "colab_type": "text",
    "id": "WTfGBXTOsq06"
   },
   "source": [
    "In particular we pay attention to the `TRTMT` and `outcome` columns. Our primary endpoint for our analysis will be the 5-year survival rate, which is captured in the `outcome` variable."
   ]
  },
  {
   "cell_type": "markdown",
   "metadata": {
    "colab_type": "text",
    "id": "Mz2uT46QMQPc"
   },
   "source": [
    "<a name=\"2\"></a>\n",
    "## 2 Data Processing\n",
    "\n",
    "Since this is an RCT, the treatment column is randomized. We will start by computing what the treatment probability is.\n",
    "\n",
    "$$p_{treatment} = \\frac{n_{treatment}}{n}$$\n",
    "\n",
    "- $n_{treatment}$ is the number of patients where `TRTMT = True`\n",
    "- $n$ is the total number of patients."
   ]
  },
  {
   "cell_type": "code",
   "execution_count": 102,
   "metadata": {
    "colab": {
     "base_uri": "https://localhost:8080/",
     "height": 187
    },
    "colab_type": "code",
    "id": "WKpz5E_CLKQy",
    "outputId": "5fb60465-d681-4fc4-ae67-1dd0baa8158d"
   },
   "outputs": [],
   "source": [
    "def proportion_treated(df):\n",
    "    \"\"\"\n",
    "    Compute proportion of trial participants who have been treated\n",
    "\n",
    "    Args:\n",
    "        df (dataframe): dataframe containing trial results. Column\n",
    "                      'TRTMT' is 1 if patient was treated, 0 otherwise.\n",
    "  \n",
    "    Returns:\n",
    "        result (float): proportion of patients who were treated\n",
    "    \"\"\"\n",
    "\n",
    "    proportion = sum(df.TRTMT==True)/df.shape[0]\n",
    "\n",
    "    return proportion"
   ]
  },
  {
   "cell_type": "code",
   "execution_count": 103,
   "metadata": {},
   "outputs": [
    {
     "name": "stdout",
     "output_type": "stream",
     "text": [
      "Proportion Treated: ~ 49.1%\n"
     ]
    }
   ],
   "source": [
    "p = proportion_treated(data)\n",
    "print(f\"Proportion Treated: ~ {round(p*100,1)}%\")"
   ]
  },
  {
   "cell_type": "markdown",
   "metadata": {},
   "source": [
    "Next, we can get a preliminary sense of the results by computing the empirical 5-year death probability for the treated arm versus the control arm. \n",
    "\n",
    "The probability of dying for patients who received the treatment is:\n",
    "\n",
    "$$p_{\\text{treatment, death}} = \\frac{n_{\\text{treatment,death}}}{n_{\\text{treatment}}}$$\n",
    "\n",
    "- $n_{\\text{treatment,death}}$ is the number of patients who received the treatment and died.\n",
    "- $n_{\\text{treatment}}$ is the number of patients who received treatment.\n",
    "\n",
    "The probability of dying for patients in the control group (who did not received treatment) is:\n",
    "\n",
    "$$p_{\\text{control, death}} = \\frac{n_{\\text{control,death}}}{n_{\\text{control}}}$$\n",
    "- $n_{\\text{control,death}}$ is the number of patients in the control group (did not receive the treatment) who died.\n",
    "- $n_{\\text{control}}$ is the number of patients in the control group (did not receive treatment)."
   ]
  },
  {
   "cell_type": "markdown",
   "metadata": {
    "colab_type": "text",
    "id": "DWvZ4Qvun8p1"
   },
   "source": [
    "\n"
   ]
  },
  {
   "cell_type": "code",
   "execution_count": 104,
   "metadata": {
    "colab": {
     "base_uri": "https://localhost:8080/",
     "height": 221
    },
    "colab_type": "code",
    "id": "etNHvX3AKleg",
    "outputId": "758c295e-9556-4314-e83e-c2062ee660ce"
   },
   "outputs": [],
   "source": [
    "def event_rate(df):\n",
    "    '''\n",
    "    Compute empirical rate of death within 5 years for treated and untreated groups.\n",
    "\n",
    "    Args:\n",
    "        df (dataframe): dataframe containing trial results. \n",
    "                          'TRTMT' column is 1 if patient was treated, 0 otherwise. \n",
    "                            'outcome' column is 1 if patient died within 5 years, 0 otherwise.\n",
    "  \n",
    "    Returns:\n",
    "        treated_prob (float): empirical probability of death given treatment\n",
    "        untreated_prob (float): empirical probability of death given control\n",
    "    '''\n",
    "    \n",
    "    treated_prob = sum((df.TRTMT==True) & (df.outcome==1))/sum(df.TRTMT==True)\n",
    "    control_prob = sum((df.TRTMT==False) & (df.outcome==1))/sum(df.TRTMT==False)\n",
    "\n",
    "    return treated_prob, control_prob"
   ]
  },
  {
   "cell_type": "code",
   "execution_count": 105,
   "metadata": {},
   "outputs": [
    {
     "name": "stdout",
     "output_type": "stream",
     "text": [
      "Death rate for treated patients: 0.3725 ~ 37%\n",
      "Death rate for untreated patients: 0.4822 ~ 48%\n"
     ]
    }
   ],
   "source": [
    "# Use function on our data\n",
    "treated_prob, control_prob = event_rate(data)\n",
    "\n",
    "# print results\n",
    "print(f\"Death rate for treated patients: {treated_prob:.4f} ~ {int(treated_prob*100)}%\")\n",
    "print(f\"Death rate for untreated patients: {control_prob:.4f} ~ {int(control_prob*100)}%\")"
   ]
  },
  {
   "cell_type": "markdown",
   "metadata": {},
   "source": [
    "On average, it seemed like treatment had a positive effect. "
   ]
  },
  {
   "cell_type": "markdown",
   "metadata": {
    "colab_type": "text",
    "id": "ShpX6ABSV_Pd"
   },
   "source": [
    "#### Sanity checks\n",
    "It's important to compute these basic summary statistics as a sanity check for more complex models later on. If they strongly disagree with these robust summaries and there isn't a good reason, then there might be a bug."
   ]
  },
  {
   "cell_type": "markdown",
   "metadata": {
    "colab_type": "text",
    "id": "fywUHcbRnsQZ"
   },
   "source": [
    "### Train test split\n",
    "\n",
    "We'll now try to quantify the impact more precisely using statistical models.  Before we get started fitting models to analyze the data, let's split it using the `train_test_split` function from `sklearn`. While a hold-out test set isn't required for logistic regression, it will be useful for comparing its performance to the ML models later on."
   ]
  },
  {
   "cell_type": "code",
   "execution_count": 106,
   "metadata": {
    "ExecuteTime": {
     "end_time": "2020-04-04T15:30:22.034397Z",
     "start_time": "2020-04-04T15:30:21.942443Z"
    },
    "colab": {},
    "colab_type": "code",
    "id": "FUBvTfF0mQuH"
   },
   "outputs": [],
   "source": [
    "# Split into dev and test set\n",
    "from sklearn.model_selection import train_test_split\n",
    "np.random.seed(18)\n",
    "random.seed(1)\n",
    "\n",
    "# drop nan\n",
    "data = data.dropna(axis=0)\n",
    "\n",
    "# allocate target variable\n",
    "y = data.outcome\n",
    "\n",
    "# We are dropping a column here, our total columns will be 1 less than before\n",
    "X = data.drop('outcome', axis=1)\n",
    "\n",
    "# Keeping 25% of the data for the test set\n",
    "X_dev, X_test, y_dev, y_test = train_test_split(X, y, test_size = 0.25, random_state=0)"
   ]
  },
  {
   "cell_type": "code",
   "execution_count": 107,
   "metadata": {
    "ExecuteTime": {
     "end_time": "2020-04-04T15:30:23.071470Z",
     "start_time": "2020-04-04T15:30:23.068473Z"
    },
    "colab": {
     "base_uri": "https://localhost:8080/",
     "height": 51
    },
    "colab_type": "code",
    "id": "6EeBLbfeFVnk",
    "outputId": "bd02e605-335a-4007-f1c0-46906dc0522c"
   },
   "outputs": [
    {
     "name": "stdout",
     "output_type": "stream",
     "text": [
      "dev set shape: (455, 13)\n",
      "test set shape: (152, 13)\n"
     ]
    }
   ],
   "source": [
    "print(f\"dev set shape: {X_dev.shape}\")\n",
    "print(f\"test set shape: {X_test.shape}\")"
   ]
  },
  {
   "cell_type": "markdown",
   "metadata": {
    "colab_type": "text",
    "id": "2c8mLTMQEZxD"
   },
   "source": [
    "<a name=\"3\"></a>\n",
    "## 3 Modeling Treatment Effect"
   ]
  },
  {
   "cell_type": "markdown",
   "metadata": {
    "colab_type": "text",
    "id": "QxHy4RGA0Goi"
   },
   "source": [
    "<a name=\"3-1\"></a>\n",
    "### 3.1 Constant Treatment Effect\n",
    "\n",
    "First, we model the treatment effect using a standard logistic regression. If $x^{(i)}$ is the input vector, then we model the probability of death within 5 years as \n",
    "$$\\sigma(\\theta^T x^{(i)}) = \\frac{1}{1 + exp(-\\theta^T x^{(i)})},$$\n",
    "\n",
    "where $ \\theta^T x^{(i)} = \\sum_{j} \\theta_j x^{(i)}_j$ is an inner product. \n"
   ]
  },
  {
   "cell_type": "markdown",
   "metadata": {},
   "source": [
    "For example, if we have three features, `TRTMT`, `AGE`, and  `SEX`, then our probability of death would be written as: \n",
    "\n",
    "$$\\sigma(\\theta^T x^{(i)}) = \\frac{1}{1 + exp(-\\theta_{TRTMT} x^{(i)}_{TRTMT} - \\theta_{AGE}x_{AGE}^{(i)} - \\theta_{SEX}x^{(i)}_{SEX})}.$$\n"
   ]
  },
  {
   "cell_type": "markdown",
   "metadata": {},
   "source": [
    "Another way to look at logistic regresion is as a linear model for the \"logit\" function, or \"log odds\": \n",
    "\n",
    "$$logit(p) = \\log \\left(\\frac{p}{1-p} \\right)= \\theta^T x^{(i)}$$\n",
    "\n",
    "- \"Odds\" is defined as the probability of an event divided by the probability of not having the event: $\\frac{p}{1-p}$.  \n",
    "\n",
    "- \"Log odds\", or \"logit\" function, is the natural log of the odds: $log \\left(\\frac{p}{1-p} \\right)$"
   ]
  },
  {
   "cell_type": "markdown",
   "metadata": {},
   "source": [
    "In this example, $x^{(i)}_{TRTMT}$ is the treatment variable. Therefore, $\\theta_{TRTMT}$ tells what the effect of treatment is. If $\\theta_{TRTMT}$ is negative, then having treatment reduces the log-odds of death, which means death is less likely than if you did not have treatment. \n",
    "\n",
    "Note that this assumes a constant relative treatment effect, since the impact of treatment does not depend on any other covariates. \n",
    "\n",
    "Typically, a randomized control trial (RCT) will seek to establish a negative $\\theta_{TRTMT}$ (because the treatment is intended to reduce risk of death), which corresponds to an odds ratio of less than 1.\n",
    "\n",
    "An odds ratio of less than one implies the probability of death is less than the probability of surviving.\n",
    "\n",
    "$$ \\frac{p}{1-p} < 1 \\rightarrow p < 1-p$$\n"
   ]
  },
  {
   "cell_type": "markdown",
   "metadata": {},
   "source": [
    "Now, let's fit our logistic regression model. We use the entire dev set (and do not need to reserve a separate validation set) because there is no need for hyperparameter tuning using a validation set."
   ]
  },
  {
   "cell_type": "code",
   "execution_count": 108,
   "metadata": {
    "ExecuteTime": {
     "end_time": "2020-04-04T15:30:26.980302Z",
     "start_time": "2020-04-04T15:30:26.884988Z"
    },
    "colab": {},
    "colab_type": "code",
    "id": "U-2hcHYycgFJ"
   },
   "outputs": [],
   "source": [
    "from sklearn.linear_model import LogisticRegression\n",
    "\n",
    "lr = LogisticRegression(penalty='l2',solver='lbfgs', max_iter=10000).fit(X_dev, y_dev)"
   ]
  },
  {
   "cell_type": "markdown",
   "metadata": {},
   "source": [
    "### Calculating the Odds ratio\n",
    "\n",
    "We are interested in finding the odds for treatment relative to the odds for the baseline.\n",
    "\n",
    "$$ OddsRatio = \\frac{Odds_{treatment}}{Odds_{baseline}}$$\n",
    "\n",
    "where\n",
    "$$Odds_{treatment} = \\frac{p_{treatment}}{1-p_{treatment}}$$\n",
    "\n",
    "and \n",
    "\n",
    "$$Odds_{baseline} = \\frac{p_{baseline}}{1-p_{baseline}}$$"
   ]
  },
  {
   "cell_type": "markdown",
   "metadata": {},
   "source": [
    "Looking at the expression from the log odds function defined above:\n",
    "\n",
    "$$\\log \\left(\\frac{p}{1-p} \\right)= \\theta^T x^{(i)} = \\theta_{treatment} \\times x_{treatment}^{(i)} + \\theta_{age} \\times x_{age}^{(i)} + \\cdots$$"
   ]
  },
  {
   "cell_type": "markdown",
   "metadata": {},
   "source": [
    "#### Treatment\n",
    "To denote that the patient received treatment, we set $x_{treatment}^{(i)} = 1$.  Which means the log odds for a treated patient are:\n",
    "\n",
    "$$ log( Odds_{treatment}) = \\log \\left(\\frac{p_{treatment}}{1-p_{treatment}} \\right) = \\theta_{treatment} \\times 1 + \\theta_{age} \\times x_{age}^{(i)} + \\cdots$$\n",
    "\n",
    "To get odds from log odds, we use exponentiation (raise to the power of e) to take the inverse of the natural log.\n",
    "\n",
    "$$Odds_{treatment} = e^{log( Odds_{treatment})} = \\left(\\frac{p_{treatment}}{1-p_{treatment}} \\right) = e^{\\theta_{treatment} \\times 1 + \\theta_{age} \\times x_{age}^{(i)} + \\cdots}$$"
   ]
  },
  {
   "cell_type": "markdown",
   "metadata": {},
   "source": [
    "#### Control (baseline)\n",
    "\n",
    "Similarly, when the patient has no treatment, this is denoted by $x_{treatment}^{(i)} = 0$.  So the log odds for the untreated patient is:\n",
    "\n",
    "$$log(Odds_{baseline}) = \\log \\left(\\frac{p_{baseline}}{1-p_{baseline}} \\right) = \\theta_{treatment} \\times 0 + \\theta_{age} \\times x_{age}^{(i)} + \\cdots$$\n",
    "\n",
    "$$ = 0 + \\theta_{age} \\times x_{age}^{(i)} + \\cdots$$\n",
    "\n",
    "To get odds from log odds, we use exponentiation (raise to the power of e) to take the inverse of the natural log.\n",
    "\n",
    "$$Odds_{baseline} = e^{log(Odds_{baseline})} = \\left(\\frac{p_{baseline}}{1-p_{baseline}} \\right) = e^{0 + \\theta_{age} \\times x_{age}^{(i)} + \\cdots}$$\n"
   ]
  },
  {
   "cell_type": "markdown",
   "metadata": {},
   "source": [
    "#### Odds Ratio\n",
    "\n",
    "The Odds ratio is:\n",
    "\n",
    "$$ OddsRatio = \\frac{Odds_{treatment}}{Odds_{baseline}}$$\n",
    "\n",
    "Doing some substitution:\n",
    "\n",
    "$$ OddsRatio = \\frac{e^{\\theta_{treatment} \\times 1 + \\theta_{age} \\times x_{age}^{(i)} + \\cdots}}{e^{0 + \\theta_{age} \\times x_{age}^{(i)} + \\cdots}}$$\n",
    "\n",
    "$e^{\\theta_{age} \\times x_{age}^{(i)} + \\cdots}$ cancels on top and bottom, so that:\n",
    "\n",
    "$$ OddsRatio = \\frac{e^{\\theta_{treatment} \\times 1}}{e^{0}}$$\n",
    "\n",
    "Since $e^{0} = 1$, This simplifies to:\n",
    "\n",
    "$$ OddsRatio = e^{\\theta_{treatment}}$$"
   ]
  },
  {
   "cell_type": "markdown",
   "metadata": {
    "colab_type": "text",
    "id": "JVUl6hTRzA-w"
   },
   "source": [
    "### Extract the treatment effect\n",
    "\n",
    "We will now define a `extract_treatment_effect` function to extract $\\theta_{treatment}$ and then calculate the odds ratio of treatment from the logistic regression model."
   ]
  },
  {
   "cell_type": "code",
   "execution_count": 109,
   "metadata": {
    "ExecuteTime": {
     "end_time": "2020-04-04T15:30:29.151352Z",
     "start_time": "2020-04-04T15:30:29.146349Z"
    },
    "colab": {
     "base_uri": "https://localhost:8080/",
     "height": 51
    },
    "colab_type": "code",
    "id": "vePgJgTWeclb",
    "outputId": "6517a03a-63b0-4780-d89e-979de53e86cd"
   },
   "outputs": [],
   "source": [
    "def extract_treatment_effect(lr, data):\n",
    "    theta_TRTMT = 0.0 # initialise theta_TRTMT\n",
    "    TRTMT_OR = 0.0 # initialise TRTMT_OR\n",
    "    \n",
    "    coeffs = {data.columns[i]:lr.coef_[0][i] for i in range(len(data.columns))}\n",
    "    \n",
    "    # get the treatment coefficient\n",
    "    theta_TRTMT = coeffs[\"TRTMT\"]\n",
    "    \n",
    "    # calculate the Odds ratio for treatment\n",
    "    TRTMT_OR = np.exp(theta_TRTMT)\n",
    "    \n",
    "    return theta_TRTMT, TRTMT_OR"
   ]
  },
  {
   "cell_type": "code",
   "execution_count": 110,
   "metadata": {},
   "outputs": [
    {
     "name": "stdout",
     "output_type": "stream",
     "text": [
      "Theta_TRTMT: -0.2888\n",
      "Treatment Odds Ratio: 0.7492\n"
     ]
    }
   ],
   "source": [
    "# Test extract_treatment_effect function\n",
    "theta_TRTMT, trtmt_OR = extract_treatment_effect(lr, X_dev)\n",
    "print(f\"Theta_TRTMT: {theta_TRTMT:.4f}\")\n",
    "print(f\"Treatment Odds Ratio: {trtmt_OR:.4f}\")"
   ]
  },
  {
   "cell_type": "markdown",
   "metadata": {
    "colab_type": "text",
    "id": "clf289SQtTzV"
   },
   "source": [
    "Based on this model, it seems that the treatment has a beneficial effect.  \n",
    "- The $\\theta_{treatment} = -0.29$ is a negative value, meaning that it has the effect of reducing risk of death.\n",
    "- In the code above, the $OddsRatio$ is stored in the variable `TRTMT_OR`.\n",
    "- The $OddsRatio = 0.75$, which is less than 1.  \n",
    "\n",
    "\n",
    "We can think of the $OddsRatio$ as a factor that is multiplied to the baseline odds $Odds_{baseline}$ in order to estimate the $Odds_{treatment}$.  We can think about the Odds Ratio as a rate, converting between baseline odds and treatment odds.\n",
    "\n",
    "$$Odds_{treatment} = OddsRatio \\times Odds_{baseline}$$\n",
    "\n",
    "In this case:\n",
    "\n",
    "$$Odds_{treatment} = 0.75 \\times Odds_{baseline}$$\n",
    "\n",
    "This can be interpreted as the treatment that on average reduces the odds of death by $(1 - OddsRatio) = 1 - 0.75 = 0.25$, or about 25%."
   ]
  },
  {
   "cell_type": "markdown",
   "metadata": {
    "colab_type": "text",
    "id": "kgv-HoPGsBP-"
   },
   "source": [
    "<a name=\"3-2\"></a>\n",
    "### 3.2 Absolute Risk Reduction"
   ]
  },
  {
   "cell_type": "markdown",
   "metadata": {
    "colab_type": "text",
    "id": "hVhcO3t2yj-4"
   },
   "source": [
    "A valuable quantity is the Absolute Risk Reduction (ARR) of a treatment. If $p_{baseline}$ is the baseline probability of death, and $p_{treatment}$ is the probability of death if treated, then \n",
    "$$ARR = p_{baseline} - p_{treatment} $$\n",
    "\n",
    "In the case of logistic regression, here is how ARR can be computed:  \n",
    "We recall that the Odds Ratio is defined as:\n",
    "\n",
    "$$OR = \\frac{Odds_{treatment}}{Odds_{baseline}}$$\n",
    "\n",
    "where the \"odds\" is the probability of the event over the probability of not having the event, or $p/(1-p)$. \n",
    "\n",
    "$$Odds_{trtmt} = \\frac{p_{treatment}}{1- p_{treatment}}$$\n",
    "and\n",
    "$$Odds_{baseline} = \\frac{p_{baseline}}{1- p_{baseline}}$$\n",
    "\n",
    "Since\n",
    "\n",
    "$$Odds_{treatment} = OR*Odds_{baseline}$$\n",
    "\n",
    "and\n",
    "\n",
    "$$p_{treatment} = \\frac{Odds_{treatment}}{Odds_{treatment}+1}$$\n",
    "\n",
    "we get\n",
    "\n",
    "$$ARR = p_{baseline} - p_{treatment}$$\n"
   ]
  },
  {
   "cell_type": "code",
   "execution_count": 111,
   "metadata": {
    "colab": {
     "base_uri": "https://localhost:8080/",
     "height": 119
    },
    "colab_type": "code",
    "id": "CCCmR2lQjDzs",
    "outputId": "177ff01a-d39a-4a69-ac3a-df0b71588019"
   },
   "outputs": [],
   "source": [
    "def OR_to_ARR(p, OR):\n",
    "    \"\"\"\n",
    "    Compute ARR for treatment for individuals given baseline risk and odds ratio of treatment.\n",
    "\n",
    "    Args:\n",
    "        p (float): baseline probability of risk (without treatment)\n",
    "        OR (float): odds ratio of treatment versus baseline\n",
    "\n",
    "    Returns:\n",
    "        ARR (float): absolute risk reduction for treatment \n",
    "      \"\"\"\n",
    "    \n",
    "    # compute baseline odds from p\n",
    "    odds_baseline = p/(1-p)\n",
    "\n",
    "    # compute odds of treatment using odds ratio\n",
    "    odds_trtmt = OR*odds_baseline\n",
    "\n",
    "    # compute new probability of death from treatment odds\n",
    "    p_trtmt = odds_trtmt/(odds_trtmt+1)\n",
    "\n",
    "    # compute ARR using treated probability and baseline probability \n",
    "    ARR = p - p_trtmt\n",
    "    \n",
    "    return ARR"
   ]
  },
  {
   "cell_type": "markdown",
   "metadata": {
    "colab_type": "text",
    "id": "LLxmh1h92FFe"
   },
   "source": [
    "#### Visualize the treatment effect as baseline risk varies\n",
    "\n",
    "The logistic regression model assumes that treatment has a constant effect in terms of odds ratio and is independent of other covariates. \n",
    "\n",
    "However, this does not mean that absolute risk reduction is necessarily constant for any baseline risk $\\hat{p}$. To illustrate this, we can plot absolute risk reduction as a function of baseline predicted risk $\\hat{p}$. \n",
    "\n",
    "Let's explore the relationship between ARR and baseline risk for the logistic regression model."
   ]
  },
  {
   "cell_type": "code",
   "execution_count": 112,
   "metadata": {
    "ExecuteTime": {
     "end_time": "2020-04-04T15:30:45.443881Z",
     "start_time": "2020-04-04T15:30:45.270615Z"
    },
    "colab": {
     "base_uri": "https://localhost:8080/",
     "height": 458
    },
    "colab_type": "code",
    "id": "eQdG21ogqTWy",
    "outputId": "16531142-20c9-459e-8dde-f239c1e31203"
   },
   "outputs": [
    {
     "data": {
      "image/png": "[encoded data removed]",
      "text/plain": [
       "<Figure size 720x504 with 1 Axes>"
      ]
     },
     "metadata": {
      "needs_background": "light"
     },
     "output_type": "display_data"
    }
   ],
   "source": [
    "ps = np.arange(0.001, 0.999, 0.001)\n",
    "diffs = [OR_to_ARR(p, trtmt_OR) for p in ps]\n",
    "plt.plot(ps, diffs)\n",
    "plt.title(\"Absolute Risk Reduction for Constant Treatment OR\")\n",
    "plt.xlabel('Baseline Risk')\n",
    "plt.ylabel('Absolute Risk Reduction')\n",
    "plt.show()"
   ]
  },
  {
   "cell_type": "markdown",
   "metadata": {
    "colab_type": "text",
    "id": "OI4QLB5l2OyZ"
   },
   "source": [
    "Note that when viewed on an absolute scale, the treatment effect is not constant, despite the fact that you used a model with no interactions between the features (we didn't multiply two features together). \n",
    "\n",
    "As shown in the plot, when the baseline risk is either very low (close to zero) or very high (close to one), the Absolute Risk Reduction from treatment is fairly low.  When the baseline risk is closer to 0.5 the ARR of treatment is higher (closer to 0.10).\n",
    "\n",
    "It is always important to remember that baseline risk has a natural effect on absolute risk reduction."
   ]
  },
  {
   "cell_type": "markdown",
   "metadata": {
    "colab_type": "text",
    "id": "9bGTgLRkQZPR"
   },
   "source": [
    "<a name=\"3-3\"></a>\n",
    "### 3.3 Model Limitations\n",
    "\n",
    "We can now plot how closely the empirical (actual) risk reduction matches the risk reduction that is predicted by the logistic regression model. \n",
    "\n",
    "This is complicated by the fact that for each patient, we only observe one outcome (treatment or no treatment). We can't give a patient treatment, then go back in time and measure an alternative scenario where the same patient did not receive the treatment. Therefore, we will group patients into groups based on their baseline risk as predicted by the model, and then plot their empirical ARR within groups that have similar baseline risks.\n",
    "\n",
    "The empirical ARR is the death rate of the untreated patients in that group minus the death rate of the treated patients in that group.\n",
    "\n",
    "$$ARR_{empirical} = p_{baseline} - p_{treatment}$$"
   ]
  },
  {
   "cell_type": "markdown",
   "metadata": {
    "colab_type": "text",
    "id": "y7sx9hZ85jNQ"
   },
   "source": [
    "#### Baseline Risk\n",
    "We write a function to compute the baseline risk of each patient using the logistic regression model.\n",
    "\n",
    "The baseline risk is the model's predicted probability that the patient is predicted to die if they do not receive treatment.\n",
    "\n",
    "We will later use the baseline risk of each patient to organize patients into risk groups (that have similar baseline risks).  This will allow to calculate the ARR within each risk group.\n",
    "\n",
    "$$p_{baseline} = logisticRegression(Treatment = False, Age = age_{i}, Obstruct = obstruct_{i}, \\cdots)$$"
   ]
  },
  {
   "cell_type": "markdown",
   "metadata": {},
   "source": [
    "- A patient receives treatment if their feature x_treatment is True, and does not receive treatment when their x_treatment is False.\n",
    "- For a patient who actually did receive treatment, we ask the model to predict their risk without receiving treatment by setting the patient's x_treatment to False.\n",
    "- The logistic regression predict_proba() function returns a 2D array, one row for each patient, and one column for each possible outcome (each class).  In this case, the two outcomes are either no death (0), or death (1)."
   ]
  },
  {
   "cell_type": "code",
   "execution_count": 113,
   "metadata": {
    "ExecuteTime": {
     "end_time": "2020-04-04T15:30:49.614506Z",
     "start_time": "2020-04-04T15:30:49.580917Z"
    },
    "colab": {
     "base_uri": "https://localhost:8080/",
     "height": 238
    },
    "colab_type": "code",
    "id": "BrIYA-Ciu3EK",
    "outputId": "4c6b2802-581c-4346-8e41-da7ee2967d7d"
   },
   "outputs": [],
   "source": [
    "def base_risks(X, lr_model):\n",
    "    \"\"\"\n",
    "    Compute baseline risks for each individual in X.\n",
    "\n",
    "    Args:\n",
    "        X (dataframe): data from trial. 'TRTMT' column\n",
    "                       is 1 if subject retrieved treatment, 0 otherwise\n",
    "        lr_model (model): logistic regression model\n",
    "    \n",
    "    Returns:\n",
    "        risks (np.array): array of predicted baseline risk\n",
    "                          for each subject in X\n",
    "    \"\"\"\n",
    "    \n",
    "    # make a copy of the dataframe so as not to overwrite the original\n",
    "    X = X.copy(deep=True)\n",
    "\n",
    "    # Set the treatment variable to assume that the patient did not receive treatment\n",
    "    X.loc[:,\"TRTMT\"] = False\n",
    "    \n",
    "    # Input the features into the model, and predict the probability of death.\n",
    "    risks = lr_model.predict_proba(X)[:,1]\n",
    "\n",
    "    return risks"
   ]
  },
  {
   "cell_type": "markdown",
   "metadata": {
    "colab_type": "text",
    "id": "JQsYKmVc6prz"
   },
   "source": [
    "#### ARR by quantile\n",
    "\n",
    "Since the effect of treatment varies depending on the baseline risk, it makes more sense to group patients who have similar baseline risks, and then look at the outcomes of those who receive treatment versus those who do not, to estimate the absolute risk reduction (ARR).\n",
    "\n",
    "We implement the `lr_ARR_quantile` function to plot empirical average ARR for each quantile of base risk."
   ]
  },
  {
   "cell_type": "markdown",
   "metadata": {},
   "source": [
    "NB:\n",
    "- We use pandas.cut to define intervals of bins of equal size.  For example, pd.cut(arr,5) uses the values in the -list or array 'arr' and returns the intervals of 5 bins.\n",
    "- Also, we use pandas.DataFrame.groupby to group by a selected column of the dataframe.  Then we select the desired variable and apply an aggregator function.  For example, df.groupby('col1')['col2'].sum() groups by column 1, and then calculates the sum of column 2 for each group.\n"
   ]
  },
  {
   "cell_type": "code",
   "execution_count": 114,
   "metadata": {},
   "outputs": [],
   "source": [
    "def lr_ARR_quantile(X, y, lr):\n",
    "    \n",
    "    # make a deep copy of the features dataframe to calculate the base risks\n",
    "    X = X.copy(deep=True)\n",
    "    \n",
    "    # Make another deep copy of the features dataframe to store baseline risk, risk_group, and y\n",
    "    df = X.copy(deep=True)\n",
    "\n",
    "    # Calculate the baseline risks thanks to the previous function\n",
    "    baseline_risk = base_risks(X, lr)\n",
    "    \n",
    "    # bin patients into 10 risk groups based on their baseline risks\n",
    "    risk_groups = pd.cut(baseline_risk, 10)\n",
    "        \n",
    "    # Store the baseline risk, risk_groups, and y into the new dataframe\n",
    "    df.loc[:, 'baseline_risk'] = baseline_risk\n",
    "    df.loc[:, 'risk_group'] = risk_groups\n",
    "    df.loc[:, 'y'] = y\n",
    "\n",
    "    # select the subset of patients who did not actually receive treatment\n",
    "    df_baseline = df[df.TRTMT==False]\n",
    "    \n",
    "    # select the subset of patients who did actually receive treatment\n",
    "    df_treatment = df[df.TRTMT==True]\n",
    "    \n",
    "    # For baseline patients, we group them by risk group, select their outcome 'y', and take the mean\n",
    "    baseline_mean_by_risk_group = df_baseline.groupby(\"risk_group\")[\"y\"].mean()\n",
    "    \n",
    "    # For treatment patients, we group them by risk group, select their outcome 'y', and take the mean\n",
    "    treatment_mean_by_risk_group = df_treatment.groupby(\"risk_group\")[\"y\"].mean()\n",
    "    \n",
    "    # Calculate the absolute risk reduction by risk group (baseline minus treatment)\n",
    "    arr_by_risk_group = baseline_mean_by_risk_group - treatment_mean_by_risk_group\n",
    "    \n",
    "    # Set the index of the arr_by_risk_group dataframe to the average baseline risk of each risk group \n",
    "    # We use data for all patients to calculate the average baseline risk, grouped by risk group.\n",
    "    arr_by_risk_group.index = df.groupby(\"risk_group\")[\"baseline_risk\"].mean()\n",
    "    \n",
    "    # Set the name of the Series to 'ARR'\n",
    "    arr_by_risk_group.name = 'ARR'\n",
    "    \n",
    "    return arr_by_risk_group"
   ]
  },
  {
   "cell_type": "code",
   "execution_count": 115,
   "metadata": {},
   "outputs": [
    {
     "data": {
      "text/html": [
       "<div>\n",
       "<style scoped>\n",
       "    .dataframe tbody tr th:only-of-type {\n",
       "        vertical-align: middle;\n",
       "    }\n",
       "\n",
       "    .dataframe tbody tr th {\n",
       "        vertical-align: top;\n",
       "    }\n",
       "\n",
       "    .dataframe thead th {\n",
       "        text-align: right;\n",
       "    }\n",
       "</style>\n",
       "<table border=\"1\" class=\"dataframe\">\n",
       "  <thead>\n",
       "    <tr style=\"text-align: right;\">\n",
       "      <th></th>\n",
       "      <th>ARR</th>\n",
       "    </tr>\n",
       "    <tr>\n",
       "      <th>baseline_risk</th>\n",
       "      <th></th>\n",
       "    </tr>\n",
       "  </thead>\n",
       "  <tbody>\n",
       "    <tr>\n",
       "      <th>0.231566</th>\n",
       "      <td>0.089744</td>\n",
       "    </tr>\n",
       "    <tr>\n",
       "      <th>0.314269</th>\n",
       "      <td>0.042857</td>\n",
       "    </tr>\n",
       "    <tr>\n",
       "      <th>0.386404</th>\n",
       "      <td>-0.014604</td>\n",
       "    </tr>\n",
       "    <tr>\n",
       "      <th>0.459700</th>\n",
       "      <td>0.138889</td>\n",
       "    </tr>\n",
       "    <tr>\n",
       "      <th>0.532988</th>\n",
       "      <td>0.083333</td>\n",
       "    </tr>\n",
       "    <tr>\n",
       "      <th>0.627010</th>\n",
       "      <td>-0.104072</td>\n",
       "    </tr>\n",
       "    <tr>\n",
       "      <th>0.693447</th>\n",
       "      <td>0.150000</td>\n",
       "    </tr>\n",
       "    <tr>\n",
       "      <th>0.777294</th>\n",
       "      <td>0.293706</td>\n",
       "    </tr>\n",
       "    <tr>\n",
       "      <th>0.836555</th>\n",
       "      <td>0.083333</td>\n",
       "    </tr>\n",
       "    <tr>\n",
       "      <th>0.918949</th>\n",
       "      <td>0.200000</td>\n",
       "    </tr>\n",
       "  </tbody>\n",
       "</table>\n",
       "</div>"
      ],
      "text/plain": [
       "                    ARR\n",
       "baseline_risk          \n",
       "0.231566       0.089744\n",
       "0.314269       0.042857\n",
       "0.386404      -0.014604\n",
       "0.459700       0.138889\n",
       "0.532988       0.083333\n",
       "0.627010      -0.104072\n",
       "0.693447       0.150000\n",
       "0.777294       0.293706\n",
       "0.836555       0.083333\n",
       "0.918949       0.200000"
      ]
     },
     "metadata": {},
     "output_type": "display_data"
    }
   ],
   "source": [
    "# Test\n",
    "abs_risks = lr_ARR_quantile(X_dev, y_dev, lr)\n",
    "\n",
    "# just showing this as a Dataframe for easier viewing\n",
    "display(pd.DataFrame(abs_risks))"
   ]
  },
  {
   "cell_type": "code",
   "execution_count": 116,
   "metadata": {
    "ExecuteTime": {
     "end_time": "2020-04-04T15:31:27.365631Z",
     "start_time": "2020-04-04T15:31:27.190715Z"
    },
    "colab": {
     "base_uri": "https://localhost:8080/",
     "height": 458
    },
    "colab_type": "code",
    "id": "xtmp3BxtNR39",
    "outputId": "266dcffc-0c16-4456-c789-106465666b41"
   },
   "outputs": [
    {
     "data": {
      "image/png": "[encoded data removed]",
      "text/plain": [
       "<Figure size 720x504 with 1 Axes>"
      ]
     },
     "metadata": {
      "needs_background": "light"
     },
     "output_type": "display_data"
    }
   ],
   "source": [
    "plt.scatter(abs_risks.index, abs_risks, label='empirical ARR')\n",
    "plt.title(\"Empirical Absolute Risk Reduction vs. Baseline Risk\")\n",
    "plt.ylabel(\"Absolute Risk Reduction\")\n",
    "plt.xlabel(\"Baseline Risk Range\")\n",
    "ps = np.arange(abs_risks.index[0]-0.05, abs_risks.index[-1]+0.05, 0.01)\n",
    "diffs = [OR_to_ARR(p, trtmt_OR) for p in ps]\n",
    "plt.plot(ps, diffs, label='predicted ARR')\n",
    "plt.legend(loc='upper right')\n",
    "plt.show()"
   ]
  },
  {
   "cell_type": "markdown",
   "metadata": {
    "colab_type": "text",
    "id": "fz8Es6q98Kjw"
   },
   "source": [
    "In the plot, the empirical absolute risk reduction is shown as blue dots, whereas the predicted risk reduction from the logistic regression model is given by the solid line.\n",
    "\n",
    "If ARR depended only on baseline risk, the actual (empirical) ARR grouped by baseline risk, would follow the model's predictions closely (the dots would be near the line in most cases).\n",
    "\n",
    "However, we can see that the empirical absolute risk reduction (dots) does not match the predicted risk reduction from the logistic regression model (given by the solid line).\n",
    "\n",
    "This may indicate that ARR may depend on more than simply the baseline risk."
   ]
  },
  {
   "cell_type": "markdown",
   "metadata": {
    "colab_type": "text",
    "id": "aAgIlK6Z8s2p"
   },
   "source": [
    "<a name=\"4\"></a>\n",
    "## 4 Model Evaluation Metric for Treatment Effect"
   ]
  },
  {
   "cell_type": "markdown",
   "metadata": {
    "colab_type": "text",
    "id": "oCASYrsI1EFI"
   },
   "source": [
    "<a name=\"4-1\"></a>\n",
    "### 4.1 C-statistic-for-benefit (C-for-benefit)\n",
    "\n",
    "We will use a measure to evaluate the discriminative power of our models for predicting ARR. Ideally, we could use something like the regular Concordance index (also called C-statistic). Proceeding by analogy, we'd like to estimate something like:\n",
    "\n",
    "$$P(A \\text{ has higher predicted ARR than } B| A \\text{ experienced a greater risk reduction than } B).$$\n"
   ]
  },
  {
   "cell_type": "markdown",
   "metadata": {},
   "source": [
    "#### The ideal data cannot be observed\n",
    "\n",
    "The fundamental problem is that for each person, we can only observe either their treatment outcome or their baseline outcome. \n",
    "- The patient either receives the treatment, or does not receive the treatment.  We can't go back in time to have the same patient undergo treatment and then not have treatment.\n",
    "- This means that we can't determine what their actual risk reduction was."
   ]
  },
  {
   "cell_type": "markdown",
   "metadata": {},
   "source": [
    "#### Estimating the treated/untreated patient using a pair of patients\n",
    "\n",
    "What we can do instead is matching people across treatment and control arms based on predicted ARR. \n",
    "- Now, in each pair, we observe both outcomes, so we'll be able to estimate the true treatment effect.\n",
    "- In the pair of patients (A,B), \n",
    "    - Patient A receives the treatment \n",
    "    - Patient B does not receive the treatment.\n",
    "- We can think of the pair of patients as a substitute for the ideal data that has the same exact patient in both the treatment and control group.\n",
    "\n",
    "NB: it is possible to match pair by predicted ARR or by similarity measure using patient features. Here, we are using the first approach, i.e using predicted ARR."
   ]
  },
  {
   "cell_type": "markdown",
   "metadata": {},
   "source": [
    "#### The C-for-benefit\n",
    "\n",
    "$$P(\\text{$P_1$ has a predicted ARR greater than $P_2$} | \\text{$P_1$ experiences greater risk reduction than $P_2$}),$$\n",
    "\n",
    "- Pair 1 consists of two patients (A,B), where A receives treatment, B does not.\n",
    "- Pair 2 is another pair of two patients (A,B), where A receives treatment, B does not.\n",
    "\n",
    "The risk reduction for each pair is:\n",
    "- 1 if the treated person A survives and the untreated B person does not (treatment helps).  \n",
    "- -1 if the treated person A dies and the untreated person B doesn't (treatment harms)\n",
    "- 0 otherwise (treatment has no effect, because both patients in the pair live, or both die)."
   ]
  },
  {
   "cell_type": "markdown",
   "metadata": {},
   "source": [
    "#### Details for calculating C-for-benefit\n",
    "\n",
    "The c-for-benefit gives a way to evaluate the ability of models to discriminate between patient profiles which are likely to experience greater benefit from treatment. \n",
    "- If we are better able to predict how likely a treatment can improve a patient's outcome, we can help the doctor and patient to make a more informed decision when deciding whether to undergo treatment, considering the possible side-effects and other risks associated with treatment. \n",
    "\n",
    "The following dictionnary will be used to attribute benefits of the treatment to matched patient pairs:\n",
    "```CPP\n",
    "obs_benefit_dict = {\n",
    "        (0, 0): 0,\n",
    "        (0, 1): -1,\n",
    "        (1, 0): 1,\n",
    "        (1, 1): 0,\n",
    "    }\n",
    "```\n",
    "Here is the interpretation of this dictionary for a pair of patients, (A,B), where A receives treatment and B does not:  \n",
    "- When patient A does not die, and neither does patient B, `(0, 0)`, the observed benefit of treatment is 0 (no effect)\n",
    "- When patient A does not die, but patient B does die, `(0, 1)`, the observed benefit is -1 (the treatment helped).\n",
    "- When patient A dies, but patient B does not die, `(1, 0)`, the observed benefit is 1 (the treatment was harmful)\n",
    "- When patient A dies and patient B dies, `(0, 0)`, the observed benefit of treatment is 0 (no effect).\n",
    "\n",
    "Each patient in a pair (A,B) is represented by a tuple `(ARR, y)`.\n",
    "- Index 0 contains the predicted ARR, which is the predicted benefit from treatment.\n",
    "- Index 1 contains the actual patient outcome: 0 for no death, 1 for death.\n",
    "\n",
    "So a pair of patients (A,B) is represented as a tuple containing two tuples:\n",
    "\n",
    "For example, Pair_1 is `( (ARR_1_A, y_1_A),(ARR_1_B, y_1_B))`, and the data may look like:\n",
    "`( (0.60, 0),(0.40, 1))`.  \n",
    "- This means that patient A (who received treatment) has a predicted benefit of 0.60 and does not die.\n",
    "- Patient B (who did not receive treatment) has a predicted benefit of 0.40 and dies."
   ]
  },
  {
   "cell_type": "markdown",
   "metadata": {},
   "source": [
    "<a name='4-2'></a>\n",
    "### 4.2 Calculating the c-statistic-for-benefit score\n",
    "In function `c_for_benefit_score`, we compute the C-for-benefit given the matched pairs.\n",
    "\n",
    "$$\\text{c for benefit score} = \\frac{concordant + 0.5 \\times risk\\_ties}{permissible}$$"
   ]
  },
  {
   "cell_type": "markdown",
   "metadata": {},
   "source": [
    "NB:\n",
    "\n",
    "- A pair of patients in this case are two patients whose data are used to represent a single patient.\n",
    "- A pair of pairs is four patients total).\n",
    "- Each patient is represented by a tuple of two values.  The first value is the predicted risk reduction, and the second is the patient's outcome.\n",
    "- observed benefit: for each patient pair, the first patient is assumed to be the one who received treatment, and second in the pair is the one who did not receive treatment.  Observed benefit is either 0 (no effect), -1 (treatment helped), 1 (treatment harmed)\n",
    "- predicted benefit: for each patient pair, we take the mean of the two predicted benefits.  This is the first value in each patient's tuple.\n",
    "- permissible pair of pairs: observed benefit is different between the two pairs of pairs of patients. Otherwise, with same outcomes, it is a non-permissible pair of pairs.\n",
    "- concordant pair: the observed benefit and predicted benefit of pair 1 are both less than those for pair 2; or, the observed and predicted benefit of pair 1 are both greater than those for pair 2.  Also, it should be a permissible pair of pairs.\n",
    "- Risk tie: the predicted benefits of both pairs are equal, and it's also a permissible pair of pairs."
   ]
  },
  {
   "cell_type": "code",
   "execution_count": 117,
   "metadata": {
    "colab": {
     "base_uri": "https://localhost:8080/",
     "height": 385
    },
    "colab_type": "code",
    "id": "XYYwXThLOZKi",
    "outputId": "6bbb3684-89d5-4674-9147-221a26a21621"
   },
   "outputs": [],
   "source": [
    "def c_for_benefit_score(pairs):\n",
    "    \"\"\"\n",
    "    Compute c-statistic-for-benefit given list of individuals matched across treatment and control arms. \n",
    "\n",
    "    Args:\n",
    "        pairs (list of tuples): each element of the list is a tuple of individuals,\n",
    "                                the first from the control arm and the second from\n",
    "                                the treatment arm. Each individual \n",
    "                                p = (pred_outcome, actual_outcome) is a tuple of\n",
    "                                their predicted outcome and actual outcome.\n",
    "    Result:\n",
    "        cstat (float): c-statistic-for-benefit computed from pairs.\n",
    "    \"\"\"\n",
    "    \n",
    "    # mapping pair outcomes to benefit\n",
    "    obs_benefit_dict = {\n",
    "        (0, 0): 0,\n",
    "        (0, 1): -1,\n",
    "        (1, 0): 1,\n",
    "        (1, 1): 0,\n",
    "    }\n",
    "\n",
    "    # mapping pair outcomes to observed benefit using dictionnary\n",
    "    obs_benefit = [obs_benefit_dict[(pair[0][1], pair[1][1])] for pair in pairs]\n",
    "    \n",
    "    # compute average predicted benefit for each pair    \n",
    "    pred_benefit = [np.mean([pair[0][0], pair[1][0]]) for pair in pairs]\n",
    "\n",
    "    # initialise counters for the number of concordant ,pairs, permissible pairs, and risk ties\n",
    "    concordant_count, permissible_count, risk_tie_count = 0, 0, 0\n",
    "\n",
    "    # iterate over pairs of matched pairs\n",
    "    for i in range(len(pairs)):\n",
    "        for j in range(i + 1, len(pairs)):\n",
    "            \n",
    "            # if the observed benefit is different, increment permissible count\n",
    "            if obs_benefit[i] != obs_benefit[j]:\n",
    "\n",
    "                # increment count of permissible pairs\n",
    "                permissible_count += 1\n",
    "                \n",
    "                # if concordant, increment count\n",
    "                if (pred_benefit[i]>pred_benefit[j]) & (obs_benefit[i]>obs_benefit[j]) \\\n",
    "                or (pred_benefit[i]<pred_benefit[j]) & (obs_benefit[i]<obs_benefit[j]): \n",
    "                    \n",
    "                    concordant_count += 1\n",
    "\n",
    "                # if risk tie, increment count\n",
    "                if (pred_benefit[i]==pred_benefit[j]): \n",
    "                    risk_tie_count += 1\n",
    "\n",
    "\n",
    "    # compute c-statistic-for-benefit\n",
    "    cstat = (concordant_count + 0.5*risk_tie_count) / permissible_count\n",
    "    \n",
    "    return cstat"
   ]
  },
  {
   "cell_type": "markdown",
   "metadata": {},
   "source": [
    "<a name='4-3'></a>\n",
    "### 4.3 Creating patient pairs\n",
    "\n",
    "We implement the function `c_statistic`, which prepares the patient data and uses the c-for-benefit score function defined before to calculate the c-for-benefit score:\n",
    "\n",
    "- Take as input:\n",
    "    - The predicted risk reduction `pred_rr` (ARR)\n",
    "    - outcomes `y` (1 for death, 0 for no death)\n",
    "    - treatments `w` (1 for treatment, 0 for no treatment)\n",
    "- Collect the predicted risk reduction, outcomes and treatments into tuples, one tuple for each patient.\n",
    "- Filter one list of tuples where patients did not receive treatment.\n",
    "- Filter another list of tuples where patients received treatment.\n",
    "\n",
    "- Make sure that there is one treated patient for each untreated patient.\n",
    "    - If there are fewer treated patients, randomly sample a subset of untreated patients, one for each treated patient.\n",
    "    - If there are fewer untreated patients, randomly sample a subset of treated patients, one for each untreated patient.\n",
    "    \n",
    "- Sort treated patients by their predicted risk reduction, and similarly sort the untreated patients by predicted risk reduction.\n",
    "    - This allows to match the treated patient with the highest predicted risk reduction with the untreated patient with the highest predicted risk reduction.  Similarly, the second highest treated patient is matched with the second highest untreated patient.\n",
    "    \n",
    "- Create pairs of treated and untreated patients."
   ]
  },
  {
   "cell_type": "code",
   "execution_count": 118,
   "metadata": {},
   "outputs": [],
   "source": [
    "def c_statistic(pred_rr, y, w, random_seed=0):\n",
    "    \"\"\"\n",
    "    Return concordance-for-benefit, the proportion of all matched pairs with\n",
    "    unequal observed benefit, in which the patient pair receiving greater\n",
    "    treatment benefit was predicted to do so.\n",
    "\n",
    "    Args: \n",
    "        pred_rr (array): array of predicted risk reductions\n",
    "        y (array): array of true outcomes\n",
    "        w (array): array of true treatments \n",
    "    \n",
    "    Returns: \n",
    "        cstat (float): calculated c-stat-for-benefit\n",
    "    \"\"\"\n",
    "    # check if inputs of same length\n",
    "    assert len(pred_rr) == len(w) == len(y)\n",
    "    random.seed(random_seed)\n",
    "    \n",
    "    # Collect pred_rr, y, and w into tuples for each patient:\n",
    "    #   NB: - We can use zip(a,b,c) to create tuples from two or more lists of equal length, \n",
    "    #       - and use list(zip(a,b,c)) to store that as a list data type.\n",
    "    tuples = list(zip(pred_rr,y,w))\n",
    "    \n",
    "    # Collect untreated patient tuples, stored as a list\n",
    "    untreated = [untreat for untreat in tuples if untreat[2]==0]\n",
    "    \n",
    "    # Collect treated patient tuples, stored as a list\n",
    "    treated = [treat for treat in tuples if treat[2]==1]\n",
    "\n",
    "    # randomly subsample to ensure every person is matched\n",
    "    \n",
    "    # if there are more untreated than treated patients,\n",
    "    # randomly choose a subset of untreated patients, one for each treated patient.\n",
    "    # We can use random.sample(some_list, sub_sample_length) to sample a subset from a list without replacement.\n",
    "\n",
    "    if len(treated) < len(untreated):\n",
    "        untreated = random.sample(untreated, len(treated))\n",
    "        \n",
    "    # if there are more treated than untreated patients,\n",
    "    # randomly choose a subset of treated patients, one for each treated patient.\n",
    "    if len(untreated) < len(treated):\n",
    "        treated = random.sample(treated, len(untreated))\n",
    "        \n",
    "    assert len(untreated) == len(treated)\n",
    "\n",
    "    # We can use sorted(some_list, key=lambda x: x[0]) to sort a list of tuples by their value in index 0.\n",
    "    # Sort the untreated patients by their predicted risk reduction\n",
    "    untreated = sorted(untreated, key=lambda x: x[0])\n",
    "    \n",
    "    # Sort the treated patients by their predicted risk reduction\n",
    "    treated = sorted(treated, key=lambda x: x[0])\n",
    "    \n",
    "    # match untreated and treated patients to create pairs together\n",
    "    pairs = list(zip(untreated, treated))\n",
    "\n",
    "    # calculate the c-for-benefit using these pairs (use the function that you implemented earlier)\n",
    "    cstat = c_for_benefit_score(pairs)\n",
    "    \n",
    "    return cstat"
   ]
  },
  {
   "cell_type": "code",
   "execution_count": 119,
   "metadata": {},
   "outputs": [
    {
     "name": "stdout",
     "output_type": "stream",
     "text": [
      "C-for-benefit calculated is 0.6\n",
      "Expected: 0.6\n"
     ]
    }
   ],
   "source": [
    "# Test\n",
    "tmp_pred_rr = [0.1,0.2,0.3,0.4,0.5,0.6,0.7,0.8,0.9]\n",
    "tmp_y = [0,1,0,1,0,1,0,1,0]\n",
    "tmp_w = [0,0,0,0,1,1,1,1,1]\n",
    "\n",
    "tmp_cstat = c_statistic(tmp_pred_rr, tmp_y, tmp_w)\n",
    "\n",
    "print(f\"C-for-benefit calculated is {tmp_cstat}\")\n",
    "print(f\"Expected: 0.6\")"
   ]
  },
  {
   "cell_type": "markdown",
   "metadata": {
    "colab_type": "text",
    "id": "XH_yDTAq3D42"
   },
   "source": [
    "<a name='4-4'></a>\n",
    "### 4.4 Predicted risk reduction\n",
    "In order to compute the c-statistic-for-benefit for any of our models, we compute predicted risk reduction from treatment (predicted risk reduction is the input `pred_rr` to the c-statistic function).\n",
    "\n",
    "- The easiest way to do this in general is to create a version of the data where the treatment variable is False and a version where it is True.\n",
    "- Then we take the difference $\\text{pred_RR} = p_{control} - p_{treatment}$"
   ]
  },
  {
   "cell_type": "code",
   "execution_count": 120,
   "metadata": {
    "ExecuteTime": {
     "end_time": "2020-04-04T15:31:43.624458Z",
     "start_time": "2020-04-04T15:31:43.619458Z"
    },
    "colab": {},
    "colab_type": "code",
    "id": "arBYI7rR4lqr"
   },
   "outputs": [],
   "source": [
    "def treatment_control(X):\n",
    "    \"\"\"Create treatment and control versions of data\"\"\"\n",
    "    X_treatment = X.copy(deep=True)\n",
    "    X_control = X.copy(deep=True)\n",
    "    X_treatment.loc[:, 'TRTMT'] = 1\n",
    "    X_control.loc[:, 'TRTMT'] = 0\n",
    "    return X_treatment, X_control\n",
    "\n",
    "def risk_reduction(model, data_treatment, data_control):\n",
    "    \"\"\"Compute predicted risk reduction for each row in data\"\"\"\n",
    "    treatment_risk = model.predict_proba(data_treatment)[:, 1]\n",
    "    control_risk = model.predict_proba(data_control)[:, 1]\n",
    "    return control_risk - treatment_risk"
   ]
  },
  {
   "cell_type": "markdown",
   "metadata": {
    "colab_type": "text",
    "id": "E4g3JazHF1G9"
   },
   "source": [
    "Now let's compute the predicted risk reductions of the logistic regression model on the test set."
   ]
  },
  {
   "cell_type": "code",
   "execution_count": 121,
   "metadata": {},
   "outputs": [],
   "source": [
    "X_test_treated, X_test_untreated = treatment_control(X_test)\n",
    "rr_lr = risk_reduction(lr, X_test_treated, X_test_untreated)"
   ]
  },
  {
   "cell_type": "markdown",
   "metadata": {
    "colab_type": "text",
    "id": "uv0Yr96aGaeL"
   },
   "source": [
    "Before we evaluate the c-statistic-for-benefit, let's look at a histogram of predicted ARR."
   ]
  },
  {
   "cell_type": "code",
   "execution_count": 122,
   "metadata": {
    "ExecuteTime": {
     "end_time": "2020-04-04T15:31:51.575460Z",
     "start_time": "2020-04-04T15:31:51.420183Z"
    },
    "colab": {
     "base_uri": "https://localhost:8080/",
     "height": 444
    },
    "colab_type": "code",
    "id": "Oa0gA4rCGZtU",
    "outputId": "8f8b1896-8276-4101-f488-1453389c62bc"
   },
   "outputs": [
    {
     "data": {
      "image/png": "[encoded data removed]",
      "text/plain": [
       "<Figure size 720x504 with 1 Axes>"
      ]
     },
     "metadata": {
      "needs_background": "light"
     },
     "output_type": "display_data"
    }
   ],
   "source": [
    "plt.hist(rr_lr, bins='auto')\n",
    "plt.title(\"Histogram of Predicted ARR using logistic regression\")\n",
    "plt.ylabel(\"count of patients\")\n",
    "plt.xlabel(\"ARR\")\n",
    "plt.show()"
   ]
  },
  {
   "cell_type": "markdown",
   "metadata": {
    "colab_type": "text",
    "id": "rTI2xcriG4vi"
   },
   "source": [
    "Note that although it predicts different absolute risk reduction, it never predicts that the treatment will adversely impact risk. This is because the odds ratio of treatment is less than 1, so the model always predicts a decrease in the baseline risk. Run the next cell to compute the c-statistic-for-benefit on the test data."
   ]
  },
  {
   "cell_type": "code",
   "execution_count": 123,
   "metadata": {
    "ExecuteTime": {
     "end_time": "2020-04-04T15:31:53.895737Z",
     "start_time": "2020-04-04T15:31:53.880107Z"
    },
    "colab": {
     "base_uri": "https://localhost:8080/",
     "height": 34
    },
    "colab_type": "code",
    "id": "HTgU2BLbGX1B",
    "outputId": "44bd6144-31ca-4a02-e4ce-8f11f139f46d"
   },
   "outputs": [
    {
     "name": "stdout",
     "output_type": "stream",
     "text": [
      "Logistic Regression evaluated by C-for-Benefit: 0.5415\n"
     ]
    }
   ],
   "source": [
    "tmp_cstat_test = c_statistic(rr_lr, y_test, X_test.TRTMT)\n",
    "print(f\"Logistic Regression evaluated by C-for-Benefit: {tmp_cstat_test:.4f}\")"
   ]
  },
  {
   "cell_type": "markdown",
   "metadata": {
    "colab_type": "text",
    "id": "o6YQq4LLZdBj"
   },
   "source": [
    "Recall that a c statistic ranges from 0 to 1, and is closer to 1 when the model being evaluated is doing a good job with its predictions.\n",
    "\n",
    "You can see that the model is not doing a great job of predicting risk reduction, given a c-for-benefit of around 0.54."
   ]
  },
  {
   "cell_type": "markdown",
   "metadata": {},
   "source": [
    "### Regular c-index\n",
    "Let's compare this with the regular C-index which does not look at pairs of pairs of patients, and just compares one patient to another when evaluating the model's performance.  So the regular c-index is evaluating the model's ability to predict overall patient risk, not necessarily measuring how well the model predicts benefit from treatment.\n",
    "\n",
    "For this we are using the `concordance_index` function from the `lifelines`packag`."
   ]
  },
  {
   "cell_type": "code",
   "execution_count": 124,
   "metadata": {
    "ExecuteTime": {
     "end_time": "2020-04-04T15:31:55.406270Z",
     "start_time": "2020-04-04T15:31:55.400272Z"
    },
    "colab": {
     "base_uri": "https://localhost:8080/",
     "height": 34
    },
    "colab_type": "code",
    "id": "JRtzA6qyJ5sn",
    "outputId": "4ada7ef3-b746-4ba1-c208-828cf6c8f674"
   },
   "outputs": [
    {
     "name": "stdout",
     "output_type": "stream",
     "text": [
      "Logistic Regression evaluated by regular C-index: 0.7783\n"
     ]
    }
   ],
   "source": [
    "from lifelines.utils import concordance_index\n",
    "tmp_regular_cindex = concordance_index(y_test, lr.predict_proba(X_test)[:, 1])\n",
    "print(f\"Logistic Regression evaluated by regular C-index: {tmp_regular_cindex:.4f}\")"
   ]
  },
  {
   "cell_type": "markdown",
   "metadata": {
    "colab_type": "text",
    "id": "qRYEhMCOLDjs"
   },
   "source": [
    "Even though the model accurately predicts overall risk (regular c-index), it does not necessarily do a great job predicting benefit from treatment (c-for-benefit)."
   ]
  },
  {
   "cell_type": "markdown",
   "metadata": {
    "colab_type": "text",
    "id": "Z_4ogidoLqGd"
   },
   "source": [
    "We can visually assess the discriminative ability of the model by checking if the people it thinks benefit the most from treatment empirically (actually) experience a benefit. \n",
    "\n",
    "Since we don't have counterfactual results from individuals, we need to aggregate patient information in some way. \n",
    "\n",
    "Let's group patients by deciles (10 groups) of risk."
   ]
  },
  {
   "cell_type": "code",
   "execution_count": 125,
   "metadata": {
    "ExecuteTime": {
     "end_time": "2020-04-04T15:32:02.277354Z",
     "start_time": "2020-04-04T15:32:02.107132Z"
    },
    "colab": {
     "base_uri": "https://localhost:8080/",
     "height": 458
    },
    "colab_type": "code",
    "id": "aP8ST7ycL-I6",
    "outputId": "6c02ef30-8683-45b3-f3f1-dea8b39c4f79"
   },
   "outputs": [
    {
     "data": {
      "image/png": "[encoded data removed]",
      "text/plain": [
       "<Figure size 720x504 with 1 Axes>"
      ]
     },
     "metadata": {
      "needs_background": "light"
     },
     "output_type": "display_data"
    }
   ],
   "source": [
    "def quantile_benefit(X, y, arr_hat):\n",
    "    df = X.copy(deep=True)\n",
    "    df.loc[:, 'y'] = y\n",
    "    df.loc[:, 'benefit'] = arr_hat\n",
    "    benefit_groups = pd.qcut(arr_hat, 10, duplicates=\"drop\")\n",
    "    df.loc[:, 'benefit_groups'] = benefit_groups\n",
    "    empirical_benefit = df.loc[df.TRTMT == 0, :].groupby('benefit_groups').y.mean() - df.loc[df.TRTMT == 1].groupby('benefit_groups').y.mean()\n",
    "    avg_benefit = df.loc[df.TRTMT == 0, :].y.mean() - df.loc[df.TRTMT==1, :].y.mean()\n",
    "    return empirical_benefit, avg_benefit\n",
    "\n",
    "def plot_empirical_risk_reduction(emp_benefit, av_benefit, model):\n",
    "    plt.scatter(range(len(emp_benefit)), emp_benefit)\n",
    "    plt.xticks(range(len(emp_benefit)), range(1, len(emp_benefit) + 1))\n",
    "    plt.title(\"Empirical Risk Reduction vs. Predicted ({})\".format(model))\n",
    "    plt.ylabel(\"Empirical Risk Reduction\")\n",
    "    plt.xlabel(\"Predicted Risk Reduction Quantile\")\n",
    "    plt.plot(range(10), [av_benefit]*10, linestyle='--', label='average RR')\n",
    "    plt.legend(loc='lower right')\n",
    "    plt.show()\n",
    "\n",
    "emp_benefit, avg_benefit = quantile_benefit(X_test, y_test, rr_lr)\n",
    "plot_empirical_risk_reduction(emp_benefit, avg_benefit, \"Logistic Regression\")"
   ]
  },
  {
   "cell_type": "markdown",
   "metadata": {
    "colab_type": "text",
    "id": "YZM3WZ2fPvOn"
   },
   "source": [
    "If the model performed well, then we would see patients in the higher deciles of predicted risk reduction (on the right) also have higher empirical risk reduction (to the top).  \n",
    "\n",
    "This model using logistic regression is far from perfect. \n",
    "\n",
    "Below, we'll see if we can do better using a machine learning approach based on random forests with decision trees."
   ]
  },
  {
   "cell_type": "markdown",
   "metadata": {
    "colab_type": "text",
    "id": "JL8ET3lk9r02"
   },
   "source": [
    "<a name=\"5\"></a>\n",
    "## 5 Machine Learning Approach "
   ]
  },
  {
   "cell_type": "markdown",
   "metadata": {
    "colab_type": "text",
    "id": "-oOkd5juz5To"
   },
   "source": [
    "<a name=\"5-1\"></a>\n",
    "### 5.1 T-Learner\n",
    "\n",
    "Now we will apply recent machine learning approaches and see how it compares to the more standard analysis. The approach we'll look at is called [T-learner](https://arxiv.org/pdf/1706.03461.pdf).\n",
    "- \"T\" stands for \"two\". \n",
    "- The T-learner learns two different models, one for treatment risk, and another model for control risk.\n",
    "- Then we take the difference of the two risk predictions to predict the risk reduction."
   ]
  },
  {
   "cell_type": "code",
   "execution_count": 126,
   "metadata": {},
   "outputs": [],
   "source": [
    "class TLearner():\n",
    "    \"\"\"\n",
    "    T-Learner class.\n",
    "\n",
    "    Attributes:\n",
    "      treatment_estimator (object): fitted model for treatment outcome\n",
    "      control_estimator (object): fitted model for control outcome\n",
    "    \"\"\"                               \n",
    "    def __init__(self, treatment_estimator, control_estimator):\n",
    "        \"\"\"\n",
    "        Initializer for TLearner class. The constructor `__init__()` \n",
    "        sets the treatment and control estimators based on the given inputs to the constructor.\n",
    "        \"\"\"\n",
    "        \n",
    "        # set the treatment estimator\n",
    "        self.treatment_estimator = treatment_estimator\n",
    "        \n",
    "        # set the control estimator \n",
    "        self.control_estimator = control_estimator\n",
    "\n",
    "    def predict(self, X):\n",
    "        \"\"\"\n",
    "        Return predicted risk reduction for treatment for given data matrix.\n",
    "        \n",
    "        The predict function takes the features and uses each estimator to predict the risk of death.  \n",
    "        Then it calculates the risk of death for the control estimator minus the risk of death from the \n",
    "        treatment estimator, and returns this as the predicted risk reduction.\n",
    "\n",
    "        Args:\n",
    "          X (dataframe): dataframe containing features for each subject\n",
    "    \n",
    "        Returns:\n",
    "          preds (np.array): predicted risk reduction for each row of X\n",
    "        \"\"\"\n",
    "\n",
    "        # predict the risk of death using the control estimator\n",
    "        risk_control = self.control_estimator.predict_proba(X)[:,1]\n",
    "        \n",
    "        # predict the risk of death using the treatment estimator\n",
    "        risk_treatment = self.treatment_estimator.predict_proba(X)[:,1]\n",
    "        \n",
    "        # the predicted risk reduction is control risk minus the treatment risk\n",
    "        pred_risk_reduction =  risk_control - risk_treatment\n",
    "                \n",
    "        return pred_risk_reduction"
   ]
  },
  {
   "cell_type": "markdown",
   "metadata": {},
   "source": [
    "<a name=\"5-2\"></a>\n",
    "### 5.2 Tune the model with grid search\n",
    "\n",
    "In order to tune the TLearner models, we use grid search to find the desired parameters.\n",
    "\n",
    "We would like to test models on multiple combinations of hyperparameters.\n",
    "For example, to get:\n",
    "```CPP\n",
    "hyperparams = {\n",
    "    'n_estimators': [10, 20],\n",
    "    'max_depth': [2, 5],\n",
    "    'min_samples_leaf': [0.1, 0.2],\n",
    "    'random_state': [0]\n",
    "}\n",
    "```\n",
    "We can generate a list like this:\n",
    "```CPP\n",
    "[[10, 20],\n",
    " [2, 5], \n",
    " [0.1, 0.2]\n",
    "]\n",
    "```\n",
    "\n",
    "Next, we get all combinations of the hyperparameter values:\n",
    "```CPP\n",
    "[(10, 2, 0.1),\n",
    " (10, 2, 0.2),\n",
    " (10, 5, 0.1),\n",
    " (10, 5, 0.2),\n",
    " (20, 2, 0.1),\n",
    " (20, 2, 0.2),\n",
    " (20, 5, 0.1),\n",
    " (20, 5, 0.2)]\n",
    "```\n",
    "\n",
    "To feed the hyperparameters into an random forest model, we use a dictionary, so no need to hard code the parameter names.\n",
    "\n",
    "For example, instead of\n",
    "```CPP\n",
    "RandomForestClassifier(n_estimators= 20, max_depth=5, min_samples_leaf=0.2)\n",
    "```\n",
    "\n",
    "We have more flexibility if a dictionary is created and passed into the model.\n",
    "```CPP\n",
    "args_d = {'n_estimators': 20, 'max_depth': 5, 'min_samples_leaf': 0.2}\n",
    "RandomForestClassifier(**args_d)\n",
    "```\n",
    "This allows to pass in a hyperparameter dictionary for any hyperpameters, not just `n_estimators`, `max_depth`, and `min_samples_leaf`.\n",
    "\n",
    "So we'll find a way to generate a list of dictionaries, like this:\n",
    "```CPP\n",
    "[{'n_estimators': 10, 'max_depth': 2, 'min_samples_leaf': 0.1},\n",
    " {'n_estimators': 10, 'max_depth': 2, 'min_samples_leaf': 0.2},\n",
    " {'n_estimators': 10, 'max_depth': 5, 'min_samples_leaf': 0.1},\n",
    " {'n_estimators': 10, 'max_depth': 5, 'min_samples_leaf': 0.2},\n",
    " {'n_estimators': 20, 'max_depth': 2, 'min_samples_leaf': 0.1},\n",
    " {'n_estimators': 20, 'max_depth': 2, 'min_samples_leaf': 0.2},\n",
    " {'n_estimators': 20, 'max_depth': 5, 'min_samples_leaf': 0.1},\n",
    " {'n_estimators': 20, 'max_depth': 5, 'min_samples_leaf': 0.2}]\n",
    "```\n",
    "\n",
    "Then for each dictionary of hyperparams:\n",
    "- We train a model.\n",
    "- We use the regular concordance index to compare their performances.  \n",
    "- Identify and return the best performing model."
   ]
  },
  {
   "cell_type": "markdown",
   "metadata": {},
   "source": [
    "##### Note\n",
    "In this case, we are not going to apply k-fold cross validation.  Since `sklearn.model_selection.GridSearchCV()` applies k-fold cross validation, we won't be using this to perform grid search, and therefore we implement our own grid search."
   ]
  },
  {
   "cell_type": "code",
   "execution_count": 127,
   "metadata": {},
   "outputs": [],
   "source": [
    "def holdout_grid_search(clf, X_train_hp, y_train_hp, X_val_hp, y_val_hp, hyperparam, verbose=False):\n",
    "    '''\n",
    "    Conduct hyperparameter grid search on hold out validation set. Use holdout validation.\n",
    "    Hyperparameters are input as a dictionary mapping each hyperparameter name to the\n",
    "    range of values they should iterate over. Use the cindex function as your evaluation\n",
    "    function.\n",
    "    \n",
    "    Input:\n",
    "        clf: sklearn classifier\n",
    "        X_train_hp (dataframe): dataframe for training set input variables\n",
    "        y_train_hp (dataframe): dataframe for training set targets\n",
    "        X_val_hp (dataframe): dataframe for validation set input variables\n",
    "        y_val_hp (dataframe): dataframe for validation set targets\n",
    "        hyperparam (dict): hyperparameter dictionary mapping hyperparameter\n",
    "                                                names to range of values for grid search\n",
    "    \n",
    "    Output:\n",
    "        best_estimator (sklearn classifier): fitted sklearn classifier with best performance on\n",
    "                                                                                 validation set\n",
    "    '''\n",
    "    # Initialize best estimator\n",
    "    best_estimator = None\n",
    "    \n",
    "    # initialize best hyperparam\n",
    "    best_hyperparam = {}\n",
    "    \n",
    "    # initialize the c-index best score to zero\n",
    "    best_score = 0.0\n",
    "    \n",
    "    # Get the values of the hyperparam and store them as a list of lists\n",
    "    hyper_param_l = list(hyperparam.values())\n",
    "    \n",
    "    # Generate a list of tuples with all possible combinations of the hyperparams\n",
    "    combination_l_of_t = list(itertools.product(*hyper_param_l))\n",
    "    \n",
    "    # Initialize the list of dictionaries for all possible combinations of hyperparams\n",
    "    combination_l_of_d = []\n",
    "    \n",
    "    # loop through each tuple in the list of tuples\n",
    "    for val_tuple in combination_l_of_t:\n",
    "        param_d = {}\n",
    "        \n",
    "        # Enumerate each key in the original hyperparams dictionary\n",
    "        for i, k in enumerate(hyperparam): # loop through i (indices of keys) and k (keys)\n",
    "            \n",
    "            # add a key value pair to param_d for each value in val_tuple\n",
    "            param_d[k] = val_tuple[i] # associate to the parameter key the value in the tuple\n",
    "        \n",
    "        # append the param_dict to the list of dictionaries\n",
    "        combination_l_of_d.append(param_d)   \n",
    "    \n",
    "    # For each hyperparam dictionary in the list of dictionaries:\n",
    "    for param_d in combination_l_of_d:\n",
    "        \n",
    "        # Set the classifier model to the given hyperparams\n",
    "        estimator = clf(**param_d)\n",
    "        \n",
    "        # Train the model on the training features and labels\n",
    "        estimator.fit(X_train_hp, y_train_hp)\n",
    "        \n",
    "        # Predict the risk of death using the validation features\n",
    "        preds = estimator.predict_proba(X_val_hp)\n",
    "        \n",
    "        # Evaluate the model's performance using the regular concordance index\n",
    "        estimator_score = concordance_index(y_val_hp, preds[:,1])\n",
    "        \n",
    "        # if the model's c-index is better than the previous best:\n",
    "        if estimator_score>best_score:\n",
    "            \n",
    "            # save the new best score\n",
    "            best_score = estimator_score\n",
    "            \n",
    "            # same the new best estimator\n",
    "            best_estimator = estimator\n",
    "            \n",
    "            # save the new best hyperparams\n",
    "            best_hyperparam = param_d\n",
    "                \n",
    "    if verbose:\n",
    "        print(\"hyperparam:\")\n",
    "        display(hyperparam)\n",
    "        \n",
    "        print(\"hyper_param_l\")\n",
    "        display(hyper_param_l)\n",
    "        \n",
    "        print(\"combination_l_of_t\")\n",
    "        display(combination_l_of_t)\n",
    "        \n",
    "        print(f\"combination_l_of_d\")\n",
    "        display(combination_l_of_d)\n",
    "        \n",
    "        print(f\"best_hyperparam\")\n",
    "        display(best_hyperparam)\n",
    "        print(f\"best_score: {best_score:.4f}\")\n",
    "        \n",
    "    return best_estimator, best_hyperparam"
   ]
  },
  {
   "cell_type": "code",
   "execution_count": 128,
   "metadata": {},
   "outputs": [
    {
     "name": "stdout",
     "output_type": "stream",
     "text": [
      "hyperparam:\n"
     ]
    },
    {
     "data": {
      "text/plain": [
       "{'n_estimators': [10, 20],\n",
       " 'max_depth': [2, 5],\n",
       " 'min_samples_leaf': [0.1, 0.2],\n",
       " 'random_state': [0]}"
      ]
     },
     "metadata": {},
     "output_type": "display_data"
    },
    {
     "name": "stdout",
     "output_type": "stream",
     "text": [
      "hyper_param_l\n"
     ]
    },
    {
     "data": {
      "text/plain": [
       "[[10, 20], [2, 5], [0.1, 0.2], [0]]"
      ]
     },
     "metadata": {},
     "output_type": "display_data"
    },
    {
     "name": "stdout",
     "output_type": "stream",
     "text": [
      "combination_l_of_t\n"
     ]
    },
    {
     "data": {
      "text/plain": [
       "[(10, 2, 0.1, 0),\n",
       " (10, 2, 0.2, 0),\n",
       " (10, 5, 0.1, 0),\n",
       " (10, 5, 0.2, 0),\n",
       " (20, 2, 0.1, 0),\n",
       " (20, 2, 0.2, 0),\n",
       " (20, 5, 0.1, 0),\n",
       " (20, 5, 0.2, 0)]"
      ]
     },
     "metadata": {},
     "output_type": "display_data"
    },
    {
     "name": "stdout",
     "output_type": "stream",
     "text": [
      "combination_l_of_d\n"
     ]
    },
    {
     "data": {
      "text/plain": [
       "[{'n_estimators': 10,\n",
       "  'max_depth': 2,\n",
       "  'min_samples_leaf': 0.1,\n",
       "  'random_state': 0},\n",
       " {'n_estimators': 10,\n",
       "  'max_depth': 2,\n",
       "  'min_samples_leaf': 0.2,\n",
       "  'random_state': 0},\n",
       " {'n_estimators': 10,\n",
       "  'max_depth': 5,\n",
       "  'min_samples_leaf': 0.1,\n",
       "  'random_state': 0},\n",
       " {'n_estimators': 10,\n",
       "  'max_depth': 5,\n",
       "  'min_samples_leaf': 0.2,\n",
       "  'random_state': 0},\n",
       " {'n_estimators': 20,\n",
       "  'max_depth': 2,\n",
       "  'min_samples_leaf': 0.1,\n",
       "  'random_state': 0},\n",
       " {'n_estimators': 20,\n",
       "  'max_depth': 2,\n",
       "  'min_samples_leaf': 0.2,\n",
       "  'random_state': 0},\n",
       " {'n_estimators': 20,\n",
       "  'max_depth': 5,\n",
       "  'min_samples_leaf': 0.1,\n",
       "  'random_state': 0},\n",
       " {'n_estimators': 20,\n",
       "  'max_depth': 5,\n",
       "  'min_samples_leaf': 0.2,\n",
       "  'random_state': 0}]"
      ]
     },
     "metadata": {},
     "output_type": "display_data"
    },
    {
     "name": "stdout",
     "output_type": "stream",
     "text": [
      "best_hyperparam\n"
     ]
    },
    {
     "data": {
      "text/plain": [
       "{'n_estimators': 10,\n",
       " 'max_depth': 2,\n",
       " 'min_samples_leaf': 0.1,\n",
       " 'random_state': 0}"
      ]
     },
     "metadata": {},
     "output_type": "display_data"
    },
    {
     "name": "stdout",
     "output_type": "stream",
     "text": [
      "best_score: 0.5928\n"
     ]
    }
   ],
   "source": [
    "# Test\n",
    "n = X_dev.shape[0]\n",
    "tmp_X_train = X_dev.iloc[:int(n*0.8),:]\n",
    "tmp_X_val = X_dev.iloc[int(n*0.8):,:]\n",
    "tmp_y_train = y_dev[:int(n*0.8)]\n",
    "tmp_y_val = y_dev[int(n*0.8):]\n",
    "\n",
    "hyperparams = {\n",
    "    'n_estimators': [10, 20],\n",
    "    'max_depth': [2, 5],\n",
    "    'min_samples_leaf': [0.1, 0.2],\n",
    "    'random_state' : [0]\n",
    "}\n",
    "\n",
    "from sklearn.ensemble import RandomForestClassifier\n",
    "control_model = holdout_grid_search(RandomForestClassifier,\n",
    "                                    tmp_X_train, tmp_y_train,\n",
    "                                    tmp_X_val, tmp_y_val, hyperparams, verbose=True)"
   ]
  },
  {
   "cell_type": "markdown",
   "metadata": {},
   "source": [
    "T-Learner is a convenient framework because it does not restrict the choice of base learners.\n",
    "- We will use random forests as the base learners, but are able to choose another model as well.\n",
    "- Unlike logistic regression, the machine learning algorithms used for base learners will generally require hyperparameter tuning, which means that we need to split your dev set into a training and validation set. \n",
    "- We need to also split each of the training and validation sets into *treatment* and *control* groups to train the treatment and control base learners of the T-Learner.\n",
    "\n",
    "#### Note\n",
    "- The input X_train and X_val have the 'TRTMT' column.  We'll remove the 'TRTMT' column from the treatment and control features that the function returns"
   ]
  },
  {
   "cell_type": "code",
   "execution_count": 129,
   "metadata": {
    "colab": {
     "base_uri": "https://localhost:8080/",
     "height": 249
    },
    "colab_type": "code",
    "id": "QdVLM4Zxjd4L",
    "outputId": "9e70dbc4-afbc-46e4-d566-8e19e261bbab"
   },
   "outputs": [],
   "source": [
    "def treatment_dataset_split(X_train, y_train, X_val, y_val):\n",
    "    \"\"\"\n",
    "    Separate treated and control individuals in training\n",
    "    and testing sets. The returned\n",
    "    datasets should NOT contain the 'TRMT' column!\n",
    "\n",
    "    Args:\n",
    "        X_train (dataframe): dataframe for subject in training set\n",
    "        y_train (np.array): outcomes for each individual in X_train\n",
    "        X_val (dataframe): dataframe for subjects in validation set\n",
    "        y_val (np.array): outcomes for each individual in X_val\n",
    "    \n",
    "    Returns:\n",
    "        X_treat_train (df): training set for treated subjects\n",
    "        y_treat_train (np.array): labels for X_treat_train\n",
    "        X_treat_val (df): validation set for treated subjects\n",
    "        y_treat_val (np.array): labels for X_treat_val\n",
    "        X_control_train (df): training set for control subjects\n",
    "        y_control_train (np.array): labels for X_control_train\n",
    "        X_control_val (np.array): validation set for control subjects\n",
    "        y_control_val (np.array): labels for X_control_val\n",
    "    \"\"\"\n",
    "    \n",
    "    # From the training set, get features of patients who received treatment\n",
    "    X_treat_train = X_train[X_train.TRTMT==True]\n",
    "    \n",
    "    # drop the 'TRTMT' column\n",
    "    X_treat_train = X_treat_train.drop(\"TRTMT\", axis=1)\n",
    "    \n",
    "    # From the training set, get the labels of patients who received treatment\n",
    "    y_treat_train = y_train[X_train.TRTMT==True]\n",
    "\n",
    "    # From the validation set, get the features of patients who received treatment\n",
    "    X_treat_val = X_val[X_val.TRTMT==True]\n",
    "                        \n",
    "    # Drop the 'TRTMT' column\n",
    "    X_treat_val = X_treat_val.drop(\"TRTMT\", axis=1)\n",
    "                        \n",
    "    # From the validation set, get the labels of patients who received treatment\n",
    "    y_treat_val = y_val[X_val.TRTMT==True]\n",
    "                        \n",
    "# --------------------------------------------------------------------------------------------\n",
    "                        \n",
    "    # From the training set, get the features of patients who did not received treatment\n",
    "    X_control_train = X_train[X_train.TRTMT==False]\n",
    "                        \n",
    "    # Drop the TRTMT column\n",
    "    X_control_train = X_control_train.drop(\"TRTMT\", axis=1)\n",
    "                        \n",
    "    # From the training set, get the labels of patients who did not receive treatment\n",
    "    y_control_train = y_train[X_train.TRTMT==False]\n",
    "    \n",
    "    # From the validation set, get the features of patients who did not receive treatment\n",
    "    X_control_val = X_val[X_val.TRTMT==False]\n",
    "    \n",
    "    # drop the 'TRTMT' column\n",
    "    X_control_val = X_control_val.drop(\"TRTMT\", axis=1)\n",
    "\n",
    "    # From the validation set, get teh labels of patients who did not receive treatment\n",
    "    y_control_val = y_val[X_val.TRTMT==False]\n",
    "    \n",
    "    ### END CODE HERE ###\n",
    "\n",
    "    return (X_treat_train, y_treat_train,\n",
    "            X_treat_val, y_treat_val,\n",
    "            X_control_train, y_control_train,\n",
    "            X_control_val, y_control_val)"
   ]
  },
  {
   "cell_type": "markdown",
   "metadata": {},
   "source": [
    "#### Training"
   ]
  },
  {
   "cell_type": "markdown",
   "metadata": {},
   "source": [
    "Now we train a T-learner model on the patient data, and evaluate its performance using the c-for-benefit.\n",
    "First, let's get the training and validation sets."
   ]
  },
  {
   "cell_type": "code",
   "execution_count": 130,
   "metadata": {},
   "outputs": [],
   "source": [
    "# Import the random forest classifier to be used as the base learner\n",
    "from sklearn.ensemble import RandomForestClassifier\n",
    "\n",
    "# Split the dev data into train and validation sets\n",
    "X_train, X_val, y_train, y_val = train_test_split(X_dev, \n",
    "                                                  y_dev, \n",
    "                                                  test_size = 0.25,\n",
    "                                                  random_state = 0)"
   ]
  },
  {
   "cell_type": "markdown",
   "metadata": {},
   "source": [
    "Split the training set into a treatment and control set.  \n",
    "Similarly, split the validation set into a treatment and control set."
   ]
  },
  {
   "cell_type": "code",
   "execution_count": 131,
   "metadata": {},
   "outputs": [],
   "source": [
    "# get treatment and control arms of training and validation sets\n",
    "(X_treat_train, y_treat_train, \n",
    " X_treat_val, y_treat_val,\n",
    " X_control_train, y_control_train,\n",
    " X_control_val, y_control_val) = treatment_dataset_split(X_train, y_train,\n",
    "                                                         X_val, y_val)"
   ]
  },
  {
   "cell_type": "code",
   "execution_count": 132,
   "metadata": {},
   "outputs": [],
   "source": [
    "# hyperparameter grid (we'll use the same one for both control and treatment arms for convenience)\n",
    "# Note that we set random_state to zero\n",
    "# in order to make the output consistent each time it's run.\n",
    "hyperparams = {\n",
    "    'n_estimators': [100, 200],\n",
    "    'max_depth': [2, 5, 10, 40, None],\n",
    "    'min_samples_leaf': [1, 0.1, 0.2],\n",
    "    'random_state': [0]\n",
    "}"
   ]
  },
  {
   "cell_type": "markdown",
   "metadata": {},
   "source": [
    "Training the treatment base learner:\n",
    "- we perform grid search to find a random forest classifier and associated hyperparameters with the best c-index (the regular c-index)."
   ]
  },
  {
   "cell_type": "code",
   "execution_count": 133,
   "metadata": {},
   "outputs": [],
   "source": [
    "# perform grid search with the treatment data to find the best model \n",
    "treatment_model, best_hyperparam_treat  = holdout_grid_search(RandomForestClassifier,\n",
    "                                      X_treat_train, y_treat_train,\n",
    "                                      X_treat_val, y_treat_val, hyperparams)"
   ]
  },
  {
   "cell_type": "markdown",
   "metadata": {},
   "source": [
    "Train the control base learner."
   ]
  },
  {
   "cell_type": "code",
   "execution_count": 134,
   "metadata": {},
   "outputs": [],
   "source": [
    "# perform grid search with the control data to find the best model \n",
    "control_model, best_hyperparam_ctrl = holdout_grid_search(RandomForestClassifier,\n",
    "                                    X_control_train, y_control_train,\n",
    "                                    X_control_val, y_control_val, hyperparams)"
   ]
  },
  {
   "cell_type": "markdown",
   "metadata": {},
   "source": [
    "Combine the treatment and control base learners into the T-learner."
   ]
  },
  {
   "cell_type": "code",
   "execution_count": 135,
   "metadata": {},
   "outputs": [],
   "source": [
    "# Save the treatment and control models into an instance of the TLearner class\n",
    "t_learner = TLearner(treatment_model, control_model)"
   ]
  },
  {
   "cell_type": "markdown",
   "metadata": {},
   "source": [
    "For the validation set, predict each patient's risk reduction."
   ]
  },
  {
   "cell_type": "code",
   "execution_count": 136,
   "metadata": {},
   "outputs": [
    {
     "name": "stdout",
     "output_type": "stream",
     "text": [
      "X_val num of patients 114\n",
      "rr_t_val num of patient predictions 114\n"
     ]
    }
   ],
   "source": [
    "# Use the t-learner to predict the risk reduction for patients in the validation set\n",
    "rr_t_val = t_learner.predict(X_val.drop(['TRTMT'], axis=1))\n",
    "\n",
    "print(f\"X_val num of patients {X_val.shape[0]}\")\n",
    "print(f\"rr_t_val num of patient predictions {rr_t_val.shape[0]}\")"
   ]
  },
  {
   "cell_type": "markdown",
   "metadata": {
    "colab_type": "text",
    "id": "xYX1rN1tIv4w"
   },
   "source": [
    "Now let's plot a histogram of predicted risk reduction on the validation set. "
   ]
  },
  {
   "cell_type": "code",
   "execution_count": 137,
   "metadata": {
    "ExecuteTime": {
     "end_time": "2020-04-04T15:32:34.703743Z",
     "start_time": "2020-04-04T15:32:34.529749Z"
    },
    "colab": {
     "base_uri": "https://localhost:8080/",
     "height": 444
    },
    "colab_type": "code",
    "id": "XISgvb6IiXnl",
    "outputId": "6850488a-51aa-4bad-a151-1bcf9a7573bc"
   },
   "outputs": [
    {
     "data": {
      "image/png": "[encoded data removed]",
      "text/plain": [
       "<Figure size 720x504 with 1 Axes>"
      ]
     },
     "metadata": {
      "needs_background": "light"
     },
     "output_type": "display_data"
    }
   ],
   "source": [
    "plt.hist(rr_t_val, bins='auto')\n",
    "plt.title(\"Histogram of Predicted ARR, T-Learner, validation set\")\n",
    "plt.xlabel('predicted risk reduction')\n",
    "plt.ylabel('count of patients')\n",
    "plt.show()"
   ]
  },
  {
   "cell_type": "markdown",
   "metadata": {
    "colab_type": "text",
    "id": "V89cP4pxQhNo"
   },
   "source": [
    "Notice when viewing the histogram that predicted risk reduction can be negative.\n",
    "- This means that for some patients, the T-learner predicts that treatment will actually increase their risk (negative risk reduction). \n",
    "- The T-learner is more flexible compared to the logistic regression model, which only predicts non-negative risk reduction for all patients (view the earlier histogram of the 'predicted ARR' histogram for the logistic regression model, and you'll see that the possible values are all non-negative)."
   ]
  },
  {
   "cell_type": "markdown",
   "metadata": {
    "colab_type": "text",
    "id": "noMOc9kOI5cw"
   },
   "source": [
    "Now plot an empirical risk reduction plot for the validation set examples. "
   ]
  },
  {
   "cell_type": "code",
   "execution_count": 138,
   "metadata": {
    "ExecuteTime": {
     "end_time": "2020-04-04T15:32:38.119651Z",
     "start_time": "2020-04-04T15:32:37.941488Z"
    },
    "colab": {
     "base_uri": "https://localhost:8080/",
     "height": 458
    },
    "colab_type": "code",
    "id": "S-0nbpSkJFmZ",
    "outputId": "13afaa75-71e8-4f7f-fa25-78da6cefe18a"
   },
   "outputs": [
    {
     "data": {
      "image/png": "[encoded data removed]",
      "text/plain": [
       "<Figure size 720x504 with 1 Axes>"
      ]
     },
     "metadata": {
      "needs_background": "light"
     },
     "output_type": "display_data"
    }
   ],
   "source": [
    "empirical_benefit, avg_benefit = quantile_benefit(X_val, y_val, rr_t_val)\n",
    "plot_empirical_risk_reduction(empirical_benefit, avg_benefit, 'T Learner [val set]')"
   ]
  },
  {
   "cell_type": "markdown",
   "metadata": {
    "colab_type": "text",
    "id": "w8F2N-Zje8dB"
   },
   "source": [
    "Recall that the predicted risk reduction is along the horizontal axis and the vertical axis is the empirical (actual risk reduction).\n",
    "\n",
    "A good model would predict a lower risk reduction for patients with actual lower risk reduction.  Similarly, a good model would predict a higher risk reduction for patients with actual higher risk reduction (imagine a diagonal line going from the bottom left to the top right of the plot).\n",
    "\n",
    "The T-learner seems to be doing a bit better (compared to the logistic regression model) at differentiating between the people who would benefit most treatment and the people who would benefit least from treatment."
   ]
  },
  {
   "cell_type": "markdown",
   "metadata": {
    "colab_type": "text",
    "id": "CzcjvmxKJWlN"
   },
   "source": [
    "Compute the C-statistic-for-benefit on the validation set."
   ]
  },
  {
   "cell_type": "code",
   "execution_count": 139,
   "metadata": {
    "ExecuteTime": {
     "end_time": "2020-04-04T15:32:40.675054Z",
     "start_time": "2020-04-04T15:32:40.671084Z"
    },
    "colab": {
     "base_uri": "https://localhost:8080/",
     "height": 34
    },
    "colab_type": "code",
    "id": "blwOcph5JVnV",
    "outputId": "4f359278-db85-4296-a717-87d6175465cc"
   },
   "outputs": [
    {
     "name": "stdout",
     "output_type": "stream",
     "text": [
      "C-for-benefit statistic of T-learner on val set: 0.5043\n"
     ]
    }
   ],
   "source": [
    "c_for_benefit_tlearner_val_set = c_statistic(rr_t_val, y_val, X_val.TRTMT)\n",
    "print(f\"C-for-benefit statistic of T-learner on val set: {c_for_benefit_tlearner_val_set:.4f}\")"
   ]
  },
  {
   "cell_type": "markdown",
   "metadata": {
    "colab_type": "text",
    "id": "yWo27MRmJoa0"
   },
   "source": [
    "Now on the test set, predict each patient's risk reduction"
   ]
  },
  {
   "cell_type": "code",
   "execution_count": 140,
   "metadata": {},
   "outputs": [],
   "source": [
    "# predict the risk reduction for each of the patients in the test set\n",
    "rr_t_test = t_learner.predict(X_test.drop(['TRTMT'], axis=1))"
   ]
  },
  {
   "cell_type": "markdown",
   "metadata": {},
   "source": [
    "Plot the histogram of risk reduction for the test set."
   ]
  },
  {
   "cell_type": "code",
   "execution_count": 141,
   "metadata": {},
   "outputs": [
    {
     "data": {
      "image/png": "[encoded data removed]",
      "text/plain": [
       "<Figure size 720x504 with 1 Axes>"
      ]
     },
     "metadata": {
      "needs_background": "light"
     },
     "output_type": "display_data"
    }
   ],
   "source": [
    "# Plot a histogram of the predicted risk reduction\n",
    "plt.hist(rr_t_test, bins='auto')\n",
    "plt.title(\"Histogram of Predicted ARR for the T-learner on test set\")\n",
    "plt.xlabel(\"predicted risk reduction\")\n",
    "plt.ylabel(\"count of patients\")\n",
    "plt.show()"
   ]
  },
  {
   "cell_type": "markdown",
   "metadata": {},
   "source": [
    "Plot the predicted versus empircal risk reduction for the test set."
   ]
  },
  {
   "cell_type": "code",
   "execution_count": 142,
   "metadata": {},
   "outputs": [
    {
     "data": {
      "image/png": "[encoded data removed]",
      "text/plain": [
       "<Figure size 720x504 with 1 Axes>"
      ]
     },
     "metadata": {
      "needs_background": "light"
     },
     "output_type": "display_data"
    }
   ],
   "source": [
    "# Plot the predicted versus empirical risk reduction for the test set\n",
    "empirical_benefit, avg_benefit = quantile_benefit(X_test, y_test, rr_t_test)\n",
    "plot_empirical_risk_reduction(empirical_benefit, avg_benefit, 'T Learner (test set)')"
   ]
  },
  {
   "cell_type": "markdown",
   "metadata": {},
   "source": [
    "Evaluate the T-learner's performance using the test set."
   ]
  },
  {
   "cell_type": "code",
   "execution_count": 143,
   "metadata": {
    "ExecuteTime": {
     "end_time": "2020-04-04T15:32:45.849067Z",
     "start_time": "2020-04-04T15:32:45.502487Z"
    },
    "colab": {
     "base_uri": "https://localhost:8080/",
     "height": 970
    },
    "colab_type": "code",
    "id": "tGFuQSpLJnym",
    "outputId": "6cc2307e-7abf-40be-df49-8be92147e4c1"
   },
   "outputs": [
    {
     "name": "stdout",
     "output_type": "stream",
     "text": [
      "C-for-benefit statistic on test set: 0.5250\n"
     ]
    }
   ],
   "source": [
    "# calculate the c-for-benefit of the t-learner on the test set\n",
    "c_for_benefit_tlearner_test_set = c_statistic(rr_t_test, y_test, X_test.TRTMT)\n",
    "print(f\"C-for-benefit statistic on test set: {c_for_benefit_tlearner_test_set:.4f}\")"
   ]
  },
  {
   "cell_type": "markdown",
   "metadata": {
    "colab_type": "text",
    "id": "ihGyqKsEfJa0"
   },
   "source": [
    "## Conclusion & Futur Work\n",
    "\n",
    "The c-for-benefit of the two models were evaluated on different test sets.  However, we can compare their c-for-benefit scores to get a sense of how they perform:\n",
    "- logistic regression: 0.5412\n",
    "- T-learner: 0.5250\n",
    "\n",
    "The T-learner doesn't actually do better than the logistic regression in this case.  We could:\n",
    "- try to tune again the hyperparameters of the T-Learner to see if it can be improved.\n",
    "- plot the learning curve to see if more data would be likely to help\n",
    "- use a different classfier algorithm"
   ]
  }
 ],
 "metadata": {
  "colab": {
   "collapsed_sections": [
    "sn8ODLuvXAyn"
   ],
   "include_colab_link": true,
   "name": "C3M1_Assignment.ipynb",
   "provenance": [],
   "toc_visible": true
  },
  "coursera": {
   "schema_names": [
    "AI4MC3-1"
   ]
  },
  "kernelspec": {
   "display_name": "Python 3",
   "language": "python",
   "name": "python3"
  },
  "language_info": {
   "codemirror_mode": {
    "name": "ipython",
    "version": 3
   },
   "file_extension": ".py",
   "mimetype": "text/x-python",
   "name": "python",
   "nbconvert_exporter": "python",
   "pygments_lexer": "ipython3",
   "version": "3.8.3"
  }
 },
 "nbformat": 4,
 "nbformat_minor": 4
}
